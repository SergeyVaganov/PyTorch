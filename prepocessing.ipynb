{
 "cells": [
  {
   "cell_type": "code",
   "execution_count": 1,
   "id": "b964f021",
   "metadata": {
    "executionInfo": {
     "elapsed": 4884,
     "status": "ok",
     "timestamp": 1663755132005,
     "user": {
      "displayName": "Сергей Ваганов",
      "userId": "01949403015015467163"
     },
     "user_tz": -300
    },
    "id": "b964f021"
   },
   "outputs": [],
   "source": [
    "import math\n",
    "import numpy as np\n",
    "import cv2\n",
    "import mediapipe as mp\n",
    "from PIL import Image\n",
    "import os\n",
    "from tqdm import tqdm"
   ]
  },
  {
   "cell_type": "code",
   "execution_count": 2,
   "id": "fdb23e46",
   "metadata": {},
   "outputs": [],
   "source": [
    "def transform(path):\n",
    "    '''Загружает файл с указанного пути. \n",
    "    Возвращает вырезанное изображение руки (32,32) и флаг что изображение найдено. '''\n",
    "    # считываем файл\n",
    "    im = cv2.imread(path) \n",
    "    flag = False\n",
    "    resized_image = []\n",
    "    imgray = cv2.cvtColor(im, cv2.COLOR_BGR2GRAY) \n",
    "    # Находим контуры изображений\n",
    "    ret, thresh = cv2.threshold(imgray, 50, 255, 0) \n",
    "    contours, hierarchy = cv2.findContours(thresh, cv2.RETR_EXTERNAL, cv2.CHAIN_APPROX_SIMPLE) \n",
    "    perimetr = []\n",
    "    # Определяем что контуры найдены\n",
    "    if contours:\n",
    "        # Устаналвливаем флаг в значение \"удачно\"\n",
    "        flag = True\n",
    "        # Ищем длинну контуров и находим контур с самой большой длинной\n",
    "        for c in contours:\n",
    "            perimetr.append(cv2.arcLength(c, True))\n",
    "        max_ = np.argmax(perimetr)\n",
    "        # ищем баунтин бокс самого большого контура, и вырезаем его из изображения\n",
    "        x,y,w,h =cv2.boundingRect(contours[max_])\n",
    "        img = im[y:y+h, x:x+w]\n",
    "        # задаём размеры изображения.\n",
    "        resized_image = cv2.resize(img, (32, 32))\n",
    "    return resized_image, flag    \n",
    "    \n"
   ]
  },
  {
   "cell_type": "code",
   "execution_count": 3,
   "id": "a2d1ec00",
   "metadata": {},
   "outputs": [],
   "source": [
    "def verify(path):\n",
    "    '''Проверяет на корректность полученного файла изображения'''\n",
    "    try:\n",
    "        im = Image.open(path)\n",
    "        im.verify() \n",
    "        im.close()\n",
    "        im = Image.open(path) \n",
    "        # быстрое преобразование, покажет есть ли изьян в данных\n",
    "        im.transpose(Image.FLIP_LEFT_RIGHT)\n",
    "        im.close()\n",
    "    except: \n",
    "        print(f'Ошибка верификации файла: {path}')\n",
    "        return 1\n",
    "    return 0"
   ]
  },
  {
   "cell_type": "code",
   "execution_count": 4,
   "id": "nUA4D-fGRi_Y",
   "metadata": {
    "executionInfo": {
     "elapsed": 6,
     "status": "ok",
     "timestamp": 1663755606903,
     "user": {
      "displayName": "Сергей Ваганов",
      "userId": "01949403015015467163"
     },
     "user_tz": -300
    },
    "id": "nUA4D-fGRi_Y"
   },
   "outputs": [],
   "source": [
    "def preprocessing():\n",
    "    '''функция обработки данных'''\n",
    "    ver = 0\n",
    "    err_detect = 0\n",
    "    i = 0\n",
    "    # список который папок изображения которых будут использоваться в качестве валидации\n",
    "    list_test = ['00', '09']\n",
    "    classes = {'01_palm':1, '02_l':2, '03_fist':3, '04_fist_moved':4, '05_thumb':5, '06_index':6, '07_ok':7, \n",
    "               '08_palm_moved':8, '09_c':9, '10_down':10}\n",
    "    os.mkdir('C:\\\\train')\n",
    "    os.mkdir('C:\\\\test')\n",
    "    \n",
    "    for cl in classes.keys():\n",
    "        os.mkdir('C:\\\\train\\\\'+cl)\n",
    "        os.mkdir('C:\\\\test\\\\'+cl)\n",
    "\n",
    "    for d in tqdm(os.listdir('C:\\\\leapGestRecog')):\n",
    "        for cl in classes.keys():\n",
    "            path = 'C:\\\\leapGestRecog\\\\'+ d + '\\\\'+cl\n",
    "            for filename in os.listdir(path):\n",
    "                i += 1\n",
    "                try:                    \n",
    "                    img_, flag = transform(path +'\\\\' + filename)\n",
    "                    \n",
    "                    if flag:\n",
    "                        if d in list_test:\n",
    "                            path_save = 'C:\\\\test\\\\'+cl+'\\\\'+filename\n",
    "                            cv2.imwrite(path_save, img_)\n",
    "                            ver += verify(path_save)\n",
    "                        else:\n",
    "                            path_save = 'C:\\\\train\\\\'+cl+'\\\\'+filename                 \n",
    "                            cv2.imwrite(path_save, img_)   \n",
    "                            ver += verify(path_save)                            \n",
    "                except:\n",
    "                    print (f\"Ошибка записи - {filename}\")\n",
    "                    err_detect += 1\n",
    "    print(f'Файлов обработанно - {i}')     \n",
    "    print(f'Ошибок записи - {err_detect}')\n",
    "    print(f'Ошибок верификации - {ver}')               \n",
    "    print(f'Ошибок записи - {err_detect}')                "
   ]
  },
  {
   "cell_type": "code",
   "execution_count": 5,
   "id": "djTByrDqRjCd",
   "metadata": {
    "colab": {
     "base_uri": "https://localhost:8080/",
     "height": 304
    },
    "executionInfo": {
     "elapsed": 16,
     "status": "error",
     "timestamp": 1663755607321,
     "user": {
      "displayName": "Сергей Ваганов",
      "userId": "01949403015015467163"
     },
     "user_tz": -300
    },
    "id": "djTByrDqRjCd",
    "outputId": "d6b5cd13-8f55-4337-85bd-0603963f382c",
    "scrolled": false
   },
   "outputs": [
    {
     "name": "stderr",
     "output_type": "stream",
     "text": [
      "100%|██████████████████████████████████████████████████████████████████████████████████| 10/10 [04:37<00:00, 27.71s/it]"
     ]
    },
    {
     "name": "stdout",
     "output_type": "stream",
     "text": [
      "Файлов обработанно - 20000\n",
      "Ошибок записи - 0\n",
      "Ошибок верификации - 0\n",
      "Ошибок записи - 0\n"
     ]
    },
    {
     "name": "stderr",
     "output_type": "stream",
     "text": [
      "\n"
     ]
    }
   ],
   "source": [
    "preprocessing()"
   ]
  }
 ],
 "metadata": {
  "colab": {
   "provenance": []
  },
  "kernelspec": {
   "display_name": "Python 3 (ipykernel)",
   "language": "python",
   "name": "python3"
  },
  "language_info": {
   "codemirror_mode": {
    "name": "ipython",
    "version": 3
   },
   "file_extension": ".py",
   "mimetype": "text/x-python",
   "name": "python",
   "nbconvert_exporter": "python",
   "pygments_lexer": "ipython3",
   "version": "3.9.7"
  }
 },
 "nbformat": 4,
 "nbformat_minor": 5
}
