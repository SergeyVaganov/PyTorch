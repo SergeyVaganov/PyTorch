{
 "cells": [
  {
   "cell_type": "code",
   "execution_count": 1,
   "id": "b9c7f761",
   "metadata": {},
   "outputs": [],
   "source": [
    "import torch\n",
    "import torchvision.transforms as transforms\n",
    "from torch import optim\n",
    "import numpy as np\n",
    "import torch.nn.functional as F\n",
    "from torch import nn\n",
    "import torchvision"
   ]
  },
  {
   "cell_type": "code",
   "execution_count": 2,
   "id": "71bd3b0d",
   "metadata": {},
   "outputs": [
    {
     "name": "stdout",
     "output_type": "stream",
     "text": [
      "Files already downloaded and verified\n",
      "Files already downloaded and verified\n"
     ]
    }
   ],
   "source": [
    "train_dataset = torchvision.datasets.CIFAR10(root='data/',\n",
    "                                             train=True,  \n",
    "                                             transform=transforms.ToTensor(), \n",
    "                                             download=True)\n",
    "test_dataset = torchvision.datasets.CIFAR10(root='./data', train=False,\n",
    "                                            download=True, transform=transforms.ToTensor())"
   ]
  },
  {
   "cell_type": "code",
   "execution_count": 3,
   "id": "0a2d523d",
   "metadata": {},
   "outputs": [],
   "source": [
    "train_loader = torch.utils.data.DataLoader(dataset=train_dataset,\n",
    "                                           batch_size=64, \n",
    "                                           shuffle=True)"
   ]
  },
  {
   "cell_type": "code",
   "execution_count": 4,
   "id": "cce9d6a5",
   "metadata": {},
   "outputs": [],
   "source": [
    "test_loader = torch.utils.data.DataLoader(test_dataset, batch_size=8,\n",
    "                                          shuffle=False)"
   ]
  },
  {
   "cell_type": "code",
   "execution_count": 5,
   "id": "11b19e5d",
   "metadata": {},
   "outputs": [
    {
     "name": "stdout",
     "output_type": "stream",
     "text": [
      "torch.Size([3, 32, 32])\n",
      "6\n"
     ]
    }
   ],
   "source": [
    "image, label = train_dataset[0]\n",
    "print(image.size())\n",
    "print(label)"
   ]
  },
  {
   "cell_type": "code",
   "execution_count": 6,
   "id": "53ce60ee",
   "metadata": {},
   "outputs": [],
   "source": [
    "classes = ('plane', 'car', 'bird', 'cat',\n",
    "           'deer', 'dog', 'frog', 'horse', 'ship', 'truck')"
   ]
  },
  {
   "cell_type": "code",
   "execution_count": 7,
   "id": "40ca9553",
   "metadata": {},
   "outputs": [
    {
     "data": {
      "text/plain": [
       "Net(\n",
       "  (fc1): Linear(in_features=3072, out_features=1600, bias=True)\n",
       "  (fc2): Linear(in_features=1600, out_features=800, bias=True)\n",
       "  (fc3): Linear(in_features=800, out_features=800, bias=True)\n",
       "  (fc4): Linear(in_features=800, out_features=400, bias=True)\n",
       "  (fc5): Linear(in_features=400, out_features=200, bias=True)\n",
       "  (fc6): Linear(in_features=200, out_features=10, bias=True)\n",
       ")"
      ]
     },
     "execution_count": 7,
     "metadata": {},
     "output_type": "execute_result"
    }
   ],
   "source": [
    "class Net(nn.Module):\n",
    "    def __init__(self, input_dim, hidden_dim, output_dim):\n",
    "        super().__init__()\n",
    "        self.fc1 = nn.Linear(input_dim, 8 * hidden_dim)\n",
    "        self.fc2 = nn.Linear(8 * hidden_dim, 4 * hidden_dim)\n",
    "        self.fc3 = nn.Linear(4 * hidden_dim, 4 * hidden_dim)\n",
    "        self.fc4 = nn.Linear(4 * hidden_dim, 2 * hidden_dim)\n",
    "        self.fc5 = nn.Linear(2 * hidden_dim, hidden_dim)\n",
    "        self.fc6 = nn.Linear(hidden_dim, output_dim)\n",
    "\n",
    "    def forward(self, x):\n",
    "        x = x.view(x.shape[0], -1)\n",
    "        x = self.fc1(x)\n",
    "        x = F.elu(x)\n",
    "        x = self.fc2(x)\n",
    "        x = F.elu(x)\n",
    "        x = self.fc3(x)\n",
    "        x = F.elu(x)\n",
    "        x = self.fc4(x)\n",
    "        x = F.elu(x)\n",
    "        x = self.fc5(x)\n",
    "        x = F.elu(x)\n",
    "        x = self.fc6(x)\n",
    "        return x\n",
    "    \n",
    "    def predict(self, x):\n",
    "        x = x.view(x.shape[0], -1)\n",
    "        x = self.fc1(x)\n",
    "        x = F.elu(x)\n",
    "        x = self.fc2(x)\n",
    "        x = F.elu(x)\n",
    "        x = self.fc3(x)\n",
    "        x = F.elu(x)       \n",
    "        x = self.fc4(x)\n",
    "        x = F.elu(x)\n",
    "        x = self.fc5(x)\n",
    "        x = F.elu(x)\n",
    "        x = self.fc6(x)\n",
    "        x = F.softmax(x)\n",
    "        return x\n",
    "\n",
    "net = Net(3072, 200, 10)\n",
    "net.train()"
   ]
  },
  {
   "cell_type": "code",
   "execution_count": 8,
   "id": "cf5396ef",
   "metadata": {},
   "outputs": [],
   "source": [
    "criterion = nn.CrossEntropyLoss()\n",
    "optimizer = optim.Adam(net.parameters(), lr=0.00001)"
   ]
  },
  {
   "cell_type": "code",
   "execution_count": 9,
   "id": "85fd2aa0",
   "metadata": {},
   "outputs": [],
   "source": [
    "# вычисляет accuracy по всей выборке\n",
    "# batch = 0 вычисляется accuracy только по первому бачу\n",
    "def accuracy(net, loader, batch=None):\n",
    "    net.eval()\n",
    "    len_total = 0\n",
    "    predict_ture = 0\n",
    "    for i, data in enumerate(loader):\n",
    "        images, labels = data[0], data[1]\n",
    "        len_total += len(labels) \n",
    "        outputs = net(images)\n",
    "        _, predicted = torch.max(outputs, 1)\n",
    "        predict_ture += (labels==predicted).sum().item()\n",
    "        if batch == 0:\n",
    "            break\n",
    "    net.train()\n",
    "    return predict_ture/len_total"
   ]
  },
  {
   "cell_type": "markdown",
   "id": "7c1b1ab2",
   "metadata": {},
   "source": [
    "По условию задачи необходимо оценивать сеть по первому батчу (что на мой взгляд не совсем корректно).\n",
    "Поэтому в решении предложен поиск сразу двух вариантов\n",
    "- обучение сети с максимальным accuracy по первому батчу\n",
    "- обучение сети с максимальным accuracy по всей тестовой выборке"
   ]
  },
  {
   "cell_type": "code",
   "execution_count": 10,
   "id": "59719500",
   "metadata": {},
   "outputs": [
    {
     "name": "stdout",
     "output_type": "stream",
     "text": [
      "Epoch [ 1/10]. Step [  1/782]. Loss: 0.036,  acc_train: 0.1002,  acc_test: 0.1011,  acc_first: 0.0\n",
      "Epoch [ 1/10]. Step [301/782]. Loss: 0.034,  acc_train: 0.2712,  acc_test: 0.2736,  acc_first: 0.375\n",
      "Epoch [ 1/10]. Step [601/782]. Loss: 0.030,  acc_train: 0.3097,  acc_test: 0.3031,  acc_first: 0.25\n",
      "Epoch [ 2/10]. Step [  1/782]. Loss: 0.029,  acc_train: 0.3234,  acc_test: 0.3201,  acc_first: 0.5\n",
      "Epoch [ 2/10]. Step [301/782]. Loss: 0.029,  acc_train: 0.3401,  acc_test: 0.3373,  acc_first: 0.375\n",
      "Epoch [ 2/10]. Step [601/782]. Loss: 0.029,  acc_train: 0.3486,  acc_test: 0.3460,  acc_first: 0.375\n",
      "Epoch [ 3/10]. Step [  1/782]. Loss: 0.027,  acc_train: 0.3561,  acc_test: 0.3508,  acc_first: 0.25\n",
      "Epoch [ 3/10]. Step [301/782]. Loss: 0.028,  acc_train: 0.3690,  acc_test: 0.3658,  acc_first: 0.375\n",
      "Epoch [ 3/10]. Step [601/782]. Loss: 0.028,  acc_train: 0.3749,  acc_test: 0.3707,  acc_first: 0.375\n",
      "Epoch [ 4/10]. Step [  1/782]. Loss: 0.027,  acc_train: 0.3717,  acc_test: 0.3685,  acc_first: 0.5\n",
      "Epoch [ 4/10]. Step [301/782]. Loss: 0.027,  acc_train: 0.3805,  acc_test: 0.3783,  acc_first: 0.5\n",
      "Epoch [ 4/10]. Step [601/782]. Loss: 0.027,  acc_train: 0.3830,  acc_test: 0.3796,  acc_first: 0.5\n",
      "Epoch [ 5/10]. Step [  1/782]. Loss: 0.026,  acc_train: 0.3895,  acc_test: 0.3933,  acc_first: 0.375\n",
      "Epoch [ 5/10]. Step [301/782]. Loss: 0.027,  acc_train: 0.3861,  acc_test: 0.3867,  acc_first: 0.625\n",
      "Epoch [ 5/10]. Step [601/782]. Loss: 0.027,  acc_train: 0.3983,  acc_test: 0.3999,  acc_first: 0.5\n",
      "Epoch [ 6/10]. Step [  1/782]. Loss: 0.027,  acc_train: 0.3999,  acc_test: 0.3966,  acc_first: 0.625\n",
      "Epoch [ 6/10]. Step [301/782]. Loss: 0.026,  acc_train: 0.4037,  acc_test: 0.4016,  acc_first: 0.5\n",
      "Epoch [ 6/10]. Step [601/782]. Loss: 0.026,  acc_train: 0.4076,  acc_test: 0.4054,  acc_first: 0.625\n",
      "Epoch [ 7/10]. Step [  1/782]. Loss: 0.026,  acc_train: 0.4043,  acc_test: 0.4052,  acc_first: 0.5\n",
      "Epoch [ 7/10]. Step [301/782]. Loss: 0.026,  acc_train: 0.4109,  acc_test: 0.4113,  acc_first: 0.5\n",
      "Epoch [ 7/10]. Step [601/782]. Loss: 0.026,  acc_train: 0.4145,  acc_test: 0.4116,  acc_first: 0.5\n",
      "Epoch [ 8/10]. Step [  1/782]. Loss: 0.027,  acc_train: 0.4156,  acc_test: 0.4118,  acc_first: 0.625\n",
      "Epoch [ 8/10]. Step [301/782]. Loss: 0.026,  acc_train: 0.4184,  acc_test: 0.4140,  acc_first: 0.375\n",
      "Epoch [ 8/10]. Step [601/782]. Loss: 0.026,  acc_train: 0.4193,  acc_test: 0.4155,  acc_first: 0.5\n",
      "Epoch [ 9/10]. Step [  1/782]. Loss: 0.022,  acc_train: 0.4254,  acc_test: 0.4194,  acc_first: 0.5\n",
      "Epoch [ 9/10]. Step [301/782]. Loss: 0.026,  acc_train: 0.4198,  acc_test: 0.4144,  acc_first: 0.625\n",
      "Epoch [ 9/10]. Step [601/782]. Loss: 0.025,  acc_train: 0.4272,  acc_test: 0.4259,  acc_first: 0.625\n",
      "Epoch [10/10]. Step [  1/782]. Loss: 0.024,  acc_train: 0.4294,  acc_test: 0.4234,  acc_first: 0.625\n",
      "Epoch [10/10]. Step [301/782]. Loss: 0.025,  acc_train: 0.4296,  acc_test: 0.4264,  acc_first: 0.625\n",
      "Epoch [10/10]. Step [601/782]. Loss: 0.025,  acc_train: 0.4273,  acc_test: 0.4257,  acc_first: 0.625\n",
      "Training is finished!\n"
     ]
    }
   ],
   "source": [
    "num_epochs = 10\n",
    "acc_max = 0.0\n",
    "acc_max_batch1 = 0.0\n",
    "PATH_MODEL = './best_model.pth'\n",
    "PATH_MODEL = './first_batch_model.pth'\n",
    "\n",
    "\n",
    "for epoch in range(num_epochs):\n",
    "    running_loss = 0.0\n",
    "    running_items = 0.0\n",
    "\n",
    "    for i, data in enumerate(train_loader):\n",
    "        inputs, labels = data[0], data[1]\n",
    "\n",
    "        # Обнуляем градиент\n",
    "        optimizer.zero_grad()\n",
    "        # Делаем предсказание\n",
    "        outputs = net(inputs)\n",
    "        # Рассчитываем лосс-функцию\n",
    "        loss = criterion(outputs, labels)\n",
    "        # Делаем шаг назад по лоссу\n",
    "        loss.backward()\n",
    "        # Делаем шаг нашего оптимайзера\n",
    "        optimizer.step()\n",
    "\n",
    "        # выводим статистику о процессе обучения\n",
    "        running_loss += loss.item()\n",
    "        running_items += len(labels)\n",
    "        if i % 300 == 0:    # печатаем каждые 300 mini-batches\n",
    "            acc = accuracy(net, test_loader)\n",
    "            first_acc = accuracy(net, test_loader, 0)\n",
    "            # сохраним модель если метрика на тесте лучшая\n",
    "            if acc > acc_max:\n",
    "                acc_max = acc\n",
    "                torch.save(net, PATH_MODEL)\n",
    "            # сохраним модель если метрика на первом батче лучшая\n",
    "            if first_acc > acc_max_batch1:\n",
    "                acc_max_batch1 = first_acc\n",
    "                torch.save(net, PATH_MODEL_BATCH)\n",
    "            print(f'Epoch [{epoch + 1:2}/{num_epochs}]. ' \\\n",
    "                  f'Step [{i + 1:3}/{len(train_loader)}]. ' \\\n",
    "                  f'Loss: {running_loss / running_items:.3f},  ' \\\n",
    "                  f'acc_train: {accuracy(net, train_loader):.4f},  ' \\\n",
    "                  f'acc_test: {acc:.4f},  ' \\\n",
    "                 f'acc_first: {first_acc:.3}')\n",
    "            running_loss, running_items = 0.0, 0.0\n",
    "\n",
    "print('Training is finished!')"
   ]
  },
  {
   "cell_type": "code",
   "execution_count": 11,
   "id": "35f55a14",
   "metadata": {},
   "outputs": [],
   "source": [
    "# загрузим модели\n",
    "best_net = torch.load(PATH_MODEL)\n",
    "first_batch_net = torch.load(PATH_MODEL_BATCH)"
   ]
  },
  {
   "cell_type": "code",
   "execution_count": 18,
   "id": "cb8cb9eb",
   "metadata": {},
   "outputs": [
    {
     "name": "stdout",
     "output_type": "stream",
     "text": [
      "first_batch_net:\n",
      "   total_accuracy:       0.3867\n",
      "   first_batch_accuracy: 0.625\n",
      "Best_net:\n",
      "   total_accuracy:       0.4264\n",
      "   first_batch_accuracy: 0.625\n"
     ]
    }
   ],
   "source": [
    "print(f'first_batch_net:\\n'\\\n",
    "      f'   total_accuracy:       {accuracy(first_batch_net, test_loader)}\\n' \\\n",
    "      f'   first_batch_accuracy: {accuracy(first_batch_net, test_loader, 0)}')\n",
    "print(f'Best_net:\\n'\n",
    "      f'   total_accuracy:       {accuracy(best_net, test_loader)}\\n' \\\n",
    "      f'   first_batch_accuracy: {accuracy(best_net, test_loader, 0)}')"
   ]
  },
  {
   "cell_type": "code",
   "execution_count": null,
   "id": "01a57ee6",
   "metadata": {},
   "outputs": [],
   "source": []
  }
 ],
 "metadata": {
  "kernelspec": {
   "display_name": "Python 3 (ipykernel)",
   "language": "python",
   "name": "python3"
  },
  "language_info": {
   "codemirror_mode": {
    "name": "ipython",
    "version": 3
   },
   "file_extension": ".py",
   "mimetype": "text/x-python",
   "name": "python",
   "nbconvert_exporter": "python",
   "pygments_lexer": "ipython3",
   "version": "3.9.7"
  }
 },
 "nbformat": 4,
 "nbformat_minor": 5
}
