{
 "cells": [
  {
   "cell_type": "code",
   "execution_count": 37,
   "id": "b964f021",
   "metadata": {
    "executionInfo": {
     "elapsed": 4884,
     "status": "ok",
     "timestamp": 1663755132005,
     "user": {
      "displayName": "Сергей Ваганов",
      "userId": "01949403015015467163"
     },
     "user_tz": -300
    },
    "id": "b964f021"
   },
   "outputs": [],
   "source": [
    "import math\n",
    "import numpy as np\n",
    "import torch.nn as nn\n",
    "import torch\n",
    "import cv2\n",
    "from torchvision import transforms, datasets\n",
    "from torch import optim \n",
    "from torchvision import models\n",
    "from torchsummary import summary\n",
    "from PIL import Image\n",
    "from torchvision.datasets import ImageFolder\n",
    "from torch.utils.data import DataLoader\n",
    "import torchvision.transforms as tt\n",
    "import mediapipe as mp\n",
    "import os"
   ]
  },
  {
   "cell_type": "code",
   "execution_count": 2,
   "id": "de2e67bf",
   "metadata": {
    "colab": {
     "base_uri": "https://localhost:8080/",
     "height": 36
    },
    "executionInfo": {
     "elapsed": 328,
     "status": "ok",
     "timestamp": 1663751216316,
     "user": {
      "displayName": "Сергей Ваганов",
      "userId": "01949403015015467163"
     },
     "user_tz": -300
    },
    "id": "de2e67bf",
    "outputId": "3fbd0e32-ff5f-41ab-8087-08682adea36c"
   },
   "outputs": [
    {
     "data": {
      "text/plain": [
       "'cpu'"
      ]
     },
     "execution_count": 2,
     "metadata": {},
     "output_type": "execute_result"
    }
   ],
   "source": [
    "device = 'cuda' if torch.cuda.is_available() else 'cpu'\n",
    "device"
   ]
  },
  {
   "cell_type": "code",
   "execution_count": 41,
   "id": "54a22e05",
   "metadata": {
    "executionInfo": {
     "elapsed": 4,
     "status": "ok",
     "timestamp": 1663750142554,
     "user": {
      "displayName": "Сергей Ваганов",
      "userId": "01949403015015467163"
     },
     "user_tz": -300
    },
    "id": "54a22e05"
   },
   "outputs": [],
   "source": [
    "train_tfms = tt.Compose([tt.Grayscale(num_output_channels=1),\n",
    "                         tt.RandomHorizontalFlip(),           \n",
    "                         tt.RandomRotation(30),               \n",
    "                         tt.ToTensor(),\n",
    "                         tt.Normalize(mean=[0.485],\n",
    "                                       std=[0.229])\n",
    "                        ])    \n",
    "\n",
    "test_tfms = tt.Compose([tt.Grayscale(num_output_channels=1),\n",
    "                         tt.ToTensor(),\n",
    "                         tt.Normalize(mean=[0.485],\n",
    "                                       std=[0.229])\n",
    "                       ])"
   ]
  },
  {
   "cell_type": "code",
   "execution_count": 42,
   "id": "1b4f5e78",
   "metadata": {
    "executionInfo": {
     "elapsed": 4172,
     "status": "ok",
     "timestamp": 1663750147992,
     "user": {
      "displayName": "Сергей Ваганов",
      "userId": "01949403015015467163"
     },
     "user_tz": -300
    },
    "id": "1b4f5e78"
   },
   "outputs": [],
   "source": [
    "train_ds = ImageFolder('C:\\\\train', train_tfms)\n",
    "test_ds = ImageFolder('C:\\\\test', test_tfms)"
   ]
  },
  {
   "cell_type": "code",
   "execution_count": 43,
   "id": "c8202986",
   "metadata": {
    "executionInfo": {
     "elapsed": 10,
     "status": "ok",
     "timestamp": 1663750147993,
     "user": {
      "displayName": "Сергей Ваганов",
      "userId": "01949403015015467163"
     },
     "user_tz": -300
    },
    "id": "c8202986"
   },
   "outputs": [],
   "source": [
    "loader_train = torch.utils.data.DataLoader(dataset=train_ds,\n",
    "                                           batch_size=8, \n",
    "                                           shuffle=True)\n",
    "loader_test = torch.utils.data.DataLoader(dataset=test_ds, batch_size=8,\n",
    "                                          shuffle=False)"
   ]
  },
  {
   "cell_type": "code",
   "execution_count": 47,
   "id": "92964069",
   "metadata": {
    "executionInfo": {
     "elapsed": 10,
     "status": "ok",
     "timestamp": 1663750147994,
     "user": {
      "displayName": "Сергей Ваганов",
      "userId": "01949403015015467163"
     },
     "user_tz": -300
    },
    "id": "92964069"
   },
   "outputs": [],
   "source": [
    "class Net(nn.Module):\n",
    "    def __init__(self, device='cpu'):\n",
    "        super().__init__()\n",
    "        self.net = nn.Sequential(\n",
    "          nn.Conv2d(1, 64, 3),\n",
    "          nn.LeakyReLU(),\n",
    "          nn.BatchNorm2d(64), \n",
    "          nn.Conv2d(64, 64, 3),\n",
    "          nn.LeakyReLU(),\n",
    "          nn.BatchNorm2d(64), \n",
    "          nn.MaxPool2d(2, 2), #16\n",
    "          nn.Conv2d(64, 128, 3),\n",
    "          nn.LeakyReLU(),          \n",
    "          nn.BatchNorm2d(128), \n",
    "          nn.Conv2d(128, 128, 3),\n",
    "          nn.LeakyReLU(),          \n",
    "          nn.BatchNorm2d(128),                     \n",
    "          nn.MaxPool2d(2, 2), #16\n",
    "          nn.Conv2d(128, 256, 3),\n",
    "          nn.LeakyReLU(),\n",
    "          nn.BatchNorm2d(256),           \n",
    "          nn.Conv2d(256, 512, 3),\n",
    "          nn.Flatten(),\n",
    "          nn.Linear(512, 1024),\n",
    "          nn.LeakyReLU(),    \n",
    "          nn.Dropout(0.2),\n",
    "          nn.BatchNorm1d(1024),                 \n",
    "          nn.Linear(1024, 1024),\n",
    "          nn.LeakyReLU(), \n",
    "          nn.Dropout(0.2),             \n",
    "          nn.BatchNorm1d(1024),                    \n",
    "          nn.Linear(1024, 10), \n",
    "          nn.Softmax(dim=1)\n",
    "        )\n",
    "        self.mean_target_train = 0\n",
    "        self.mean_target_test = 0\n",
    "        self.history = None\n",
    "        self.device=device\n",
    "\n",
    "        \n",
    "    def forward(self, x):\n",
    "        x = self.net(x)\n",
    "        return x\n",
    "\n",
    "    \n",
    "    def fit(self, loader_train, loadre_test, epochs, loss, optimazer, lr, show_log=True):\n",
    "        self.train()\n",
    "        self.history = []\n",
    "        self.optimazer = optimazer(self.parameters(), lr)\n",
    "        self.loss = loss()\n",
    "        for epoch in range(epochs):\n",
    "            running_loss = 0.0\n",
    "            running_items = 0.0\n",
    "            predict_ture = 0.0            \n",
    "            for i, data in enumerate(loader_train):\n",
    "                X_train, y_train = data[0].to(self.device), data[1].to(self.device)\n",
    "                self.optimazer.zero_grad()\n",
    "                outputs = self(X_train)\n",
    "                loss_iter = self.loss(outputs, y_train)\n",
    "                loss_iter.backward()\n",
    "                self.optimazer.step()\n",
    "                if i%200 ==0:\n",
    "                    loss_test, acc_test = self.loss_fn(loader_test)\n",
    "                    self.history.append([epoch+1, i+1, acc_test])\n",
    "                    if show_log:\n",
    "                        print(f'Epoch [{epoch + 1:2}/{epochs}]. ' \\\n",
    "                              f'Step [{i + 1:3}/{len(loader_train)}]. ' \\\n",
    "                              f'Loss_test: {loss_test:.4f}  '\\\n",
    "                              f'Acc_test: {acc_test:.3f}'\n",
    "                              )\n",
    "                running_loss, running_items = 0.0, 0.0\n",
    "        print(f'Training is finished with optimazer: {optimazer}')\n",
    "        return self.history\n",
    "\n",
    "    \n",
    "    def loss_fn(self, loader):\n",
    "        self.eval()\n",
    "        running_loss = 0.0\n",
    "        running_items = 0.0\n",
    "        predict_ture = 0.0        \n",
    "        for i, data in enumerate(loader):\n",
    "            X_data, y_data = data[0].to(self.device), data[1].to(self.device)\n",
    "            outputs = self(X_data)\n",
    "            loss_iter = self.loss(outputs, y_data)\n",
    "            running_loss += loss_iter.item()\n",
    "            _, predicted = torch.max(outputs, 1)\n",
    "            predict_ture += (y_data==predicted).sum().item()\n",
    "            running_items += len(y_data)\n",
    "        self.train()  \n",
    "        return running_loss / running_items, predict_ture/running_items"
   ]
  },
  {
   "cell_type": "code",
   "execution_count": 48,
   "id": "c9a851c5",
   "metadata": {
    "executionInfo": {
     "elapsed": 3287,
     "status": "ok",
     "timestamp": 1663750151271,
     "user": {
      "displayName": "Сергей Ваганов",
      "userId": "01949403015015467163"
     },
     "user_tz": -300
    },
    "id": "c9a851c5"
   },
   "outputs": [],
   "source": [
    "net = Net(device).to(device)"
   ]
  },
  {
   "cell_type": "code",
   "execution_count": 49,
   "id": "c71946b5",
   "metadata": {
    "colab": {
     "base_uri": "https://localhost:8080/"
    },
    "executionInfo": {
     "elapsed": 6608,
     "status": "ok",
     "timestamp": 1663750157871,
     "user": {
      "displayName": "Сергей Ваганов",
      "userId": "01949403015015467163"
     },
     "user_tz": -300
    },
    "id": "c71946b5",
    "outputId": "7549e988-d4af-4d4d-839f-fa55d6440040"
   },
   "outputs": [
    {
     "name": "stdout",
     "output_type": "stream",
     "text": [
      "----------------------------------------------------------------\n",
      "        Layer (type)               Output Shape         Param #\n",
      "================================================================\n",
      "            Conv2d-1           [-1, 64, 30, 30]             640\n",
      "         LeakyReLU-2           [-1, 64, 30, 30]               0\n",
      "       BatchNorm2d-3           [-1, 64, 30, 30]             128\n",
      "            Conv2d-4           [-1, 64, 28, 28]          36,928\n",
      "         LeakyReLU-5           [-1, 64, 28, 28]               0\n",
      "       BatchNorm2d-6           [-1, 64, 28, 28]             128\n",
      "         MaxPool2d-7           [-1, 64, 14, 14]               0\n",
      "            Conv2d-8          [-1, 128, 12, 12]          73,856\n",
      "         LeakyReLU-9          [-1, 128, 12, 12]               0\n",
      "      BatchNorm2d-10          [-1, 128, 12, 12]             256\n",
      "           Conv2d-11          [-1, 128, 10, 10]         147,584\n",
      "        LeakyReLU-12          [-1, 128, 10, 10]               0\n",
      "      BatchNorm2d-13          [-1, 128, 10, 10]             256\n",
      "        MaxPool2d-14            [-1, 128, 5, 5]               0\n",
      "           Conv2d-15            [-1, 256, 3, 3]         295,168\n",
      "        LeakyReLU-16            [-1, 256, 3, 3]               0\n",
      "      BatchNorm2d-17            [-1, 256, 3, 3]             512\n",
      "           Conv2d-18            [-1, 512, 1, 1]       1,180,160\n",
      "          Flatten-19                  [-1, 512]               0\n",
      "           Linear-20                 [-1, 1024]         525,312\n",
      "        LeakyReLU-21                 [-1, 1024]               0\n",
      "          Dropout-22                 [-1, 1024]               0\n",
      "      BatchNorm1d-23                 [-1, 1024]           2,048\n",
      "           Linear-24                 [-1, 1024]       1,049,600\n",
      "        LeakyReLU-25                 [-1, 1024]               0\n",
      "          Dropout-26                 [-1, 1024]               0\n",
      "      BatchNorm1d-27                 [-1, 1024]           2,048\n",
      "           Linear-28                   [-1, 10]          10,250\n",
      "          Softmax-29                   [-1, 10]               0\n",
      "================================================================\n",
      "Total params: 3,324,874\n",
      "Trainable params: 3,324,874\n",
      "Non-trainable params: 0\n",
      "----------------------------------------------------------------\n",
      "Input size (MB): 0.00\n",
      "Forward/backward pass size (MB): 3.42\n",
      "Params size (MB): 12.68\n",
      "Estimated Total Size (MB): 16.11\n",
      "----------------------------------------------------------------\n"
     ]
    }
   ],
   "source": [
    "summary(net.to(device), input_size=(1, 32, 32))"
   ]
  },
  {
   "cell_type": "code",
   "execution_count": 50,
   "id": "b5db0849",
   "metadata": {
    "id": "b5db0849",
    "scrolled": false
   },
   "outputs": [
    {
     "name": "stdout",
     "output_type": "stream",
     "text": [
      "Epoch [ 1/2]. Step [  1/2000]. Loss_test: 0.2878  Acc_test: 0.100\n",
      "Epoch [ 1/2]. Step [201/2000]. Loss_test: 0.2491  Acc_test: 0.471\n",
      "Epoch [ 1/2]. Step [401/2000]. Loss_test: 0.2303  Acc_test: 0.625\n",
      "Epoch [ 1/2]. Step [601/2000]. Loss_test: 0.2316  Acc_test: 0.618\n",
      "Epoch [ 1/2]. Step [801/2000]. Loss_test: 0.2198  Acc_test: 0.737\n",
      "Epoch [ 1/2]. Step [1001/2000]. Loss_test: 0.2157  Acc_test: 0.763\n",
      "Epoch [ 1/2]. Step [1201/2000]. Loss_test: 0.2178  Acc_test: 0.736\n",
      "Epoch [ 1/2]. Step [1401/2000]. Loss_test: 0.2124  Acc_test: 0.743\n",
      "Epoch [ 1/2]. Step [1601/2000]. Loss_test: 0.2107  Acc_test: 0.794\n",
      "Epoch [ 1/2]. Step [1801/2000]. Loss_test: 0.2078  Acc_test: 0.827\n",
      "Epoch [ 2/2]. Step [  1/2000]. Loss_test: 0.2238  Acc_test: 0.672\n",
      "Epoch [ 2/2]. Step [201/2000]. Loss_test: 0.2093  Acc_test: 0.797\n",
      "Epoch [ 2/2]. Step [401/2000]. Loss_test: 0.2113  Acc_test: 0.782\n",
      "Epoch [ 2/2]. Step [601/2000]. Loss_test: 0.2149  Acc_test: 0.747\n",
      "Epoch [ 2/2]. Step [801/2000]. Loss_test: 0.2100  Acc_test: 0.776\n",
      "Epoch [ 2/2]. Step [1001/2000]. Loss_test: 0.2164  Acc_test: 0.731\n",
      "Epoch [ 2/2]. Step [1201/2000]. Loss_test: 0.2115  Acc_test: 0.767\n",
      "Epoch [ 2/2]. Step [1401/2000]. Loss_test: 0.2145  Acc_test: 0.737\n",
      "Epoch [ 2/2]. Step [1601/2000]. Loss_test: 0.2204  Acc_test: 0.671\n",
      "Epoch [ 2/2]. Step [1801/2000]. Loss_test: 0.2159  Acc_test: 0.721\n",
      "Training is finished with optimazer: <class 'torch.optim.adam.Adam'>\n"
     ]
    }
   ],
   "source": [
    "hist = net.fit(loader_train, loader_test, 2, nn.CrossEntropyLoss, optim.Adam, 0.0001, show_log=True)"
   ]
  },
  {
   "cell_type": "code",
   "execution_count": 51,
   "id": "e2baa627",
   "metadata": {
    "id": "e2baa627"
   },
   "outputs": [],
   "source": [
    "torch.save(net, './model_1.pth')"
   ]
  },
  {
   "cell_type": "code",
   "execution_count": null,
   "id": "VICWrR9NMWgN",
   "metadata": {
    "executionInfo": {
     "elapsed": 20,
     "status": "aborted",
     "timestamp": 1663749418671,
     "user": {
      "displayName": "Сергей Ваганов",
      "userId": "01949403015015467163"
     },
     "user_tz": -300
    },
    "id": "VICWrR9NMWgN"
   },
   "outputs": [],
   "source": []
  }
 ],
 "metadata": {
  "colab": {
   "provenance": []
  },
  "kernelspec": {
   "display_name": "Python 3 (ipykernel)",
   "language": "python",
   "name": "python3"
  },
  "language_info": {
   "codemirror_mode": {
    "name": "ipython",
    "version": 3
   },
   "file_extension": ".py",
   "mimetype": "text/x-python",
   "name": "python",
   "nbconvert_exporter": "python",
   "pygments_lexer": "ipython3",
   "version": "3.9.7"
  }
 },
 "nbformat": 4,
 "nbformat_minor": 5
}
