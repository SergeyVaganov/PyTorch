{
 "cells": [
  {
   "cell_type": "code",
   "execution_count": 1,
   "metadata": {
    "id": "_CNZn_3CofVO"
   },
   "outputs": [],
   "source": [
    "import torch"
   ]
  },
  {
   "cell_type": "code",
   "execution_count": 2,
   "metadata": {
    "colab": {
     "base_uri": "https://localhost:8080/"
    },
    "executionInfo": {
     "elapsed": 387,
     "status": "ok",
     "timestamp": 1659642690119,
     "user": {
      "displayName": "Сергей Ваганов",
      "userId": "01949403015015467163"
     },
     "user_tz": -300
    },
    "id": "QGYTKAxeofVR",
    "outputId": "fe80a0d5-807d-4b70-8645-ff1cf1e7486a"
   },
   "outputs": [
    {
     "data": {
      "text/plain": [
       "(tensor([[[-0.9487, -0.4330, -0.2377, -0.2733, -0.6286],\n",
       "          [-0.0401, -1.0807, -1.0086, -1.0925, -0.7187],\n",
       "          [-0.9946,  0.7539,  0.0850, -0.0937,  0.2070],\n",
       "          [ 0.3235, -0.6705, -1.5097,  0.3129, -0.7813]],\n",
       " \n",
       "         [[-1.3191, -0.1249,  0.2154,  0.3536,  0.9017],\n",
       "          [ 0.7846, -0.2650, -1.5159,  1.7845,  1.9728],\n",
       "          [-1.1248,  0.7515, -1.0131,  0.1800, -1.3098],\n",
       "          [ 0.7468,  0.4031,  1.1055, -1.2941, -1.0970]],\n",
       " \n",
       "         [[-1.0983, -0.3088,  0.3853, -0.9795, -1.4832],\n",
       "          [-0.1075,  0.5149,  0.3423, -1.0807, -2.1456],\n",
       "          [-1.3022, -0.5649,  0.1152, -0.6923, -0.2965],\n",
       "          [-0.9189, -0.8957,  1.2016, -0.9114, -0.0995]]]),\n",
       " tensor([[[-7.7198e+00,  7.5670e-43, -7.6770e+00,  7.5670e-43, -7.7331e+00],\n",
       "          [ 7.5670e-43, -7.7161e+00,  7.5670e-43, -4.8341e-02,  7.5670e-43],\n",
       "          [-4.8341e-02,  7.5670e-43, -3.8530e+00,  7.5670e-43, -3.8530e+00],\n",
       "          [ 7.5670e-43, -7.7238e+00,  7.5670e-43, -7.7238e+00,  7.5670e-43]],\n",
       " \n",
       "         [[-7.6701e+00,  7.5670e-43, -7.7119e+00,  7.5670e-43, -7.6753e+00],\n",
       "          [ 7.5670e-43, -7.6753e+00,  7.5670e-43, -7.6744e+00,  7.5670e-43],\n",
       "          [-7.6744e+00,  7.5670e-43, -4.8341e-02,  7.5670e-43, -4.8341e-02],\n",
       "          [ 7.5670e-43, -7.7118e+00,  7.5670e-43, -7.7118e+00,  7.5670e-43]],\n",
       " \n",
       "         [[-7.7154e+00,  7.5670e-43, -7.7154e+00,  7.5670e-43, -7.6667e+00],\n",
       "          [ 7.5670e-43, -7.6667e+00,  7.5670e-43, -7.7267e+00,  7.5670e-43],\n",
       "          [-7.7267e+00,  7.5670e-43, -4.8341e-02,  7.5670e-43, -4.8341e-02],\n",
       "          [ 7.5670e-43, -4.8341e-02,  7.5670e-43, -4.8341e-02,  7.5670e-43]]]),\n",
       " tensor([[[-7.6705e+00,  7.5670e-43, -7.6705e+00,  7.5670e-43, -7.7189e+00],\n",
       "          [ 7.5670e-43, -7.7189e+00,  7.5670e-43, -7.6648e+00,  7.5670e-43],\n",
       "          [-7.6648e+00,  7.5670e-43, -7.8320e+00,  7.5670e-43, -7.8320e+00],\n",
       "          [ 7.5670e-43, -7.7393e+00,  7.5670e-43, -7.7202e+00,  7.5670e-43]],\n",
       " \n",
       "         [[-7.6772e+00,  7.5670e-43, -7.6772e+00,  7.5670e-43, -7.7317e+00],\n",
       "          [ 7.5670e-43, -7.7317e+00,  7.5670e-43, -4.8341e-02,  7.5670e-43],\n",
       "          [-4.8341e-02,  7.5670e-43, -7.7263e+00,  7.5670e-43, -7.6709e+00],\n",
       "          [ 7.5670e-43, -3.8478e+00,  7.5670e-43, -7.6714e+00,  7.5670e-43]],\n",
       " \n",
       "         [[-4.8341e-02,  7.5670e-43, -4.8341e-02,  7.5670e-43, -4.8341e-02],\n",
       "          [ 7.5670e-43, -4.8341e-02,  7.5670e-43, -4.8341e-02,  7.5670e-43],\n",
       "          [-4.8341e-02,  7.5670e-43, -7.7270e+00,  7.5670e-43, -7.7137e+00],\n",
       "          [ 7.5670e-43, -7.6771e+00,  7.5670e-43, -7.6771e+00,  7.5670e-43]]]))"
      ]
     },
     "execution_count": 2,
     "metadata": {},
     "output_type": "execute_result"
    }
   ],
   "source": [
    "# 1. Создайте случайный FloatTensor размера 3x4x5\n",
    "\n",
    "# тензор процессора 3х4х5 float32, \n",
    "# заполненный случайными числами из нормального распределения N(0,1)\n",
    "a = torch.randn((3,4,5), dtype=torch.float32, device='cpu') \n",
    "\n",
    "# тензор процессора 3х4х5 с мусором float32\n",
    "b = torch.FloatTensor(3,4,5) \n",
    "\n",
    "# тензор процессора 3х4х5 с мусором float32\n",
    "c = torch.empty(3,4,5, dtype=torch.float32, device='cpu') \n",
    "a, b, c"
   ]
  },
  {
   "cell_type": "code",
   "execution_count": 3,
   "metadata": {
    "colab": {
     "base_uri": "https://localhost:8080/"
    },
    "executionInfo": {
     "elapsed": 13,
     "status": "ok",
     "timestamp": 1659642714664,
     "user": {
      "displayName": "Сергей Ваганов",
      "userId": "01949403015015467163"
     },
     "user_tz": -300
    },
    "id": "7GV_q8DdofVV",
    "outputId": "6d83aeae-a309-4e40-8ebd-2e01e43015d9"
   },
   "outputs": [
    {
     "data": {
      "text/plain": [
       "torch.Size([3, 4, 5])"
      ]
     },
     "execution_count": 3,
     "metadata": {},
     "output_type": "execute_result"
    }
   ],
   "source": [
    "# 2. Выведите его форму (shape)\n",
    "a.shape"
   ]
  },
  {
   "cell_type": "code",
   "execution_count": 4,
   "metadata": {
    "id": "f1OTy65FofVX"
   },
   "outputs": [
    {
     "data": {
      "text/plain": [
       "tensor([[-0.9487, -0.4330, -0.2377, -0.2733, -0.6286, -0.0401, -1.0807, -1.0086,\n",
       "         -1.0925, -0.7187],\n",
       "        [-0.9946,  0.7539,  0.0850, -0.0937,  0.2070,  0.3235, -0.6705, -1.5097,\n",
       "          0.3129, -0.7813],\n",
       "        [-1.3191, -0.1249,  0.2154,  0.3536,  0.9017,  0.7846, -0.2650, -1.5159,\n",
       "          1.7845,  1.9728],\n",
       "        [-1.1248,  0.7515, -1.0131,  0.1800, -1.3098,  0.7468,  0.4031,  1.1055,\n",
       "         -1.2941, -1.0970],\n",
       "        [-1.0983, -0.3088,  0.3853, -0.9795, -1.4832, -0.1075,  0.5149,  0.3423,\n",
       "         -1.0807, -2.1456],\n",
       "        [-1.3022, -0.5649,  0.1152, -0.6923, -0.2965, -0.9189, -0.8957,  1.2016,\n",
       "         -0.9114, -0.0995]])"
      ]
     },
     "execution_count": 4,
     "metadata": {},
     "output_type": "execute_result"
    }
   ],
   "source": [
    "# 3. Приведите его к форме 6х10\n",
    "a = a.reshape(6,10)\n",
    "a"
   ]
  },
  {
   "cell_type": "code",
   "execution_count": 5,
   "metadata": {
    "colab": {
     "base_uri": "https://localhost:8080/"
    },
    "executionInfo": {
     "elapsed": 390,
     "status": "ok",
     "timestamp": 1659642855253,
     "user": {
      "displayName": "Сергей Ваганов",
      "userId": "01949403015015467163"
     },
     "user_tz": -300
    },
    "id": "BEVOv9_TofVe",
    "outputId": "34d2182c-863c-489e-f7cb-5a4a31a76186"
   },
   "outputs": [
    {
     "data": {
      "text/plain": [
       "tensor([5, 2, 2, 9, 8, 9, 8, 2, 8, 0], dtype=torch.int32)"
      ]
     },
     "execution_count": 5,
     "metadata": {},
     "output_type": "execute_result"
    }
   ],
   "source": [
    "# 4. Создайте случайный IntTensor размера 10\n",
    "b = torch.randint(0, 10, (10,), dtype=torch.int32, device='cpu')\n",
    "b"
   ]
  },
  {
   "cell_type": "code",
   "execution_count": 6,
   "metadata": {
    "colab": {
     "base_uri": "https://localhost:8080/"
    },
    "executionInfo": {
     "elapsed": 367,
     "status": "ok",
     "timestamp": 1659642844390,
     "user": {
      "displayName": "Сергей Ваганов",
      "userId": "01949403015015467163"
     },
     "user_tz": -300
    },
    "id": "TAX3DUiSa07K",
    "outputId": "2a2bbbb2-6370-40a5-9ffd-28f1285878b3"
   },
   "outputs": [
    {
     "name": "stdout",
     "output_type": "stream",
     "text": [
      "tensor([[ -4.7433,  -0.8660,  -0.4754,  -2.4596,  -5.0285,  -0.3607,  -8.6459,\n",
      "          -2.0171,  -8.7402,  -0.0000],\n",
      "        [ -4.9731,   1.5078,   0.1700,  -0.8432,   1.6558,   2.9117,  -5.3644,\n",
      "          -3.0195,   2.5033,  -0.0000],\n",
      "        [ -6.5955,  -0.2497,   0.4309,   3.1827,   7.2136,   7.0610,  -2.1199,\n",
      "          -3.0318,  14.2757,   0.0000],\n",
      "        [ -5.6239,   1.5030,  -2.0262,   1.6201, -10.4782,   6.7209,   3.2248,\n",
      "           2.2111, -10.3529,  -0.0000],\n",
      "        [ -5.4916,  -0.6177,   0.7705,  -8.8158, -11.8657,  -0.9675,   4.1192,\n",
      "           0.6846,  -8.6456,  -0.0000],\n",
      "        [ -6.5109,  -1.1298,   0.2304,  -6.2308,  -2.3718,  -8.2699,  -7.1654,\n",
      "           2.4032,  -7.2915,  -0.0000]])\n"
     ]
    }
   ],
   "source": [
    "# 5. Умножьте созданный FloatTensor на созданный IntTensor поэлементно\n",
    "c = a * b\n",
    "print(c)"
   ]
  },
  {
   "cell_type": "code",
   "execution_count": 7,
   "metadata": {
    "colab": {
     "base_uri": "https://localhost:8080/"
    },
    "executionInfo": {
     "elapsed": 422,
     "status": "ok",
     "timestamp": 1659643061001,
     "user": {
      "displayName": "Сергей Ваганов",
      "userId": "01949403015015467163"
     },
     "user_tz": -300
    },
    "id": "eUxdWlQZofVi",
    "outputId": "fc85448e-cf9c-42f5-a946-43272334065c"
   },
   "outputs": [
    {
     "data": {
      "text/plain": [
       "tensor([[ 210.1510,   45.4908, -115.6800,  130.7634,  146.4850,  182.8191],\n",
       "        [  45.4908,   83.1257,  118.5808,  -19.1483,  -34.3284,   20.8895],\n",
       "        [-115.6800,  118.5808,  373.2525, -148.4634, -218.0079, -148.1977],\n",
       "        [ 130.7634,  -19.1483, -148.4634,  318.0522,  236.2462,   51.3239],\n",
       "        [ 146.4850,  -34.3284, -218.0079,  236.2462,  342.7664,  162.8735],\n",
       "        [ 182.8191,   20.8895, -148.1977,   51.3239,  162.8735,  266.8445]])"
      ]
     },
     "execution_count": 7,
     "metadata": {},
     "output_type": "execute_result"
    }
   ],
   "source": [
    "# 6. Умножьте тензор матрично на себя, чтобы результат был размерности 6x6\n",
    "# Подсказка: .dot может не подойти\n",
    "s = c.matmul(c.T)\n",
    "s.shape\n",
    "s"
   ]
  },
  {
   "cell_type": "code",
   "execution_count": 8,
   "metadata": {
    "id": "u3V6CsNkofVj"
   },
   "outputs": [
    {
     "data": {
      "text/plain": [
       "(tensor(3.), tensor(1.), tensor(-75.))"
      ]
     },
     "execution_count": 8,
     "metadata": {},
     "output_type": "execute_result"
    }
   ],
   "source": [
    "# 7. Посчитайте производную функции y = x**3 + z - 75t в точке (1, 0.5, 2)\n",
    "\n",
    "x=torch.tensor(1.0, requires_grad=True) \n",
    "z=torch.tensor(0.5, requires_grad=True) \n",
    "t=torch.tensor(2.0, requires_grad=True)  \n",
    "y=x**3+z-75*t\n",
    "y.backward() \n",
    "x.grad, z.grad, t.grad\n",
    "\n",
    "\n"
   ]
  },
  {
   "cell_type": "code",
   "execution_count": 9,
   "metadata": {
    "colab": {
     "base_uri": "https://localhost:8080/"
    },
    "executionInfo": {
     "elapsed": 496,
     "status": "ok",
     "timestamp": 1659643220436,
     "user": {
      "displayName": "Сергей Ваганов",
      "userId": "01949403015015467163"
     },
     "user_tz": -300
    },
    "id": "FzH6QkyxofVm",
    "outputId": "40d1f775-1aa0-4094-80e5-fcd3c00ef8a1"
   },
   "outputs": [
    {
     "data": {
      "text/plain": [
       "tensor([[1., 1., 1., 1., 1., 1.],\n",
       "        [1., 1., 1., 1., 1., 1.],\n",
       "        [1., 1., 1., 1., 1., 1.],\n",
       "        [1., 1., 1., 1., 1., 1.],\n",
       "        [1., 1., 1., 1., 1., 1.]])"
      ]
     },
     "execution_count": 9,
     "metadata": {},
     "output_type": "execute_result"
    }
   ],
   "source": [
    "# 8. Создайте единичный тензор размера 5x6\n",
    "once = torch.ones(5,6)\n",
    "once"
   ]
  },
  {
   "cell_type": "code",
   "execution_count": 10,
   "metadata": {
    "colab": {
     "base_uri": "https://localhost:8080/"
    },
    "executionInfo": {
     "elapsed": 11,
     "status": "ok",
     "timestamp": 1659643220797,
     "user": {
      "displayName": "Сергей Ваганов",
      "userId": "01949403015015467163"
     },
     "user_tz": -300
    },
    "id": "z49ttvWPofVo",
    "outputId": "81947a18-6b1c-473c-a9ac-a5c59fbc078f"
   },
   "outputs": [
    {
     "data": {
      "text/plain": [
       "array([[1., 1., 1., 1., 1., 1.],\n",
       "       [1., 1., 1., 1., 1., 1.],\n",
       "       [1., 1., 1., 1., 1., 1.],\n",
       "       [1., 1., 1., 1., 1., 1.],\n",
       "       [1., 1., 1., 1., 1., 1.]], dtype=float32)"
      ]
     },
     "execution_count": 10,
     "metadata": {},
     "output_type": "execute_result"
    }
   ],
   "source": [
    "# 9. Переведите его в формат numpy\n",
    "once = once.numpy()\n",
    "once"
   ]
  }
 ],
 "metadata": {
  "colab": {
   "collapsed_sections": [],
   "name": "Копия блокнота \"HW_1.ipynb\"",
   "provenance": [
    {
     "file_id": "1l_ngLK9Ltwkd8Gkv9WwQYGo_ctCs3HvY",
     "timestamp": 1659643246226
    }
   ]
  },
  "kernelspec": {
   "display_name": "Python 3 (ipykernel)",
   "language": "python",
   "name": "python3"
  },
  "language_info": {
   "codemirror_mode": {
    "name": "ipython",
    "version": 3
   },
   "file_extension": ".py",
   "mimetype": "text/x-python",
   "name": "python",
   "nbconvert_exporter": "python",
   "pygments_lexer": "ipython3",
   "version": "3.9.7"
  }
 },
 "nbformat": 4,
 "nbformat_minor": 1
}
