{
 "cells": [
  {
   "cell_type": "code",
   "execution_count": 1,
   "id": "f7ead699",
   "metadata": {
    "executionInfo": {
     "elapsed": 1926,
     "status": "ok",
     "timestamp": 1661652572986,
     "user": {
      "displayName": "Сергей Ваганов",
      "userId": "01949403015015467163"
     },
     "user_tz": -300
    },
    "id": "f7ead699"
   },
   "outputs": [],
   "source": [
    "import numpy as np\n",
    "import pandas as pd\n",
    "import torch\n",
    "import torch.nn as nn\n",
    "import torch.nn.functional as F\n",
    "from sklearn.model_selection import train_test_split\n",
    "from string import punctuation\n",
    "from stop_words import get_stop_words\n",
    "import nltk\n",
    "from nltk.tokenize import word_tokenize\n",
    "from nltk.probability import FreqDist\n",
    "from nltk.stem.wordnet import WordNetLemmatizer\n",
    "from nltk.corpus import wordnet\n",
    "from tqdm import tqdm \n",
    "import matplotlib.pyplot as plt "
   ]
  },
  {
   "cell_type": "code",
   "execution_count": 2,
   "id": "2cbf32f4",
   "metadata": {
    "colab": {
     "base_uri": "https://localhost:8080/",
     "height": 1000
    },
    "executionInfo": {
     "elapsed": 702,
     "status": "error",
     "timestamp": 1661652577076,
     "user": {
      "displayName": "Сергей Ваганов",
      "userId": "01949403015015467163"
     },
     "user_tz": -300
    },
    "id": "2cbf32f4",
    "outputId": "f42bf874-a205-4417-f1f7-199ac4070d8c"
   },
   "outputs": [
    {
     "data": {
      "text/plain": [
       "0    29720\n",
       "1     2242\n",
       "Name: label, dtype: int64"
      ]
     },
     "execution_count": 2,
     "metadata": {},
     "output_type": "execute_result"
    }
   ],
   "source": [
    "df_train = pd.read_csv(\"train.csv\")\n",
    "df_train['label'].value_counts()"
   ]
  },
  {
   "cell_type": "markdown",
   "id": "ee9e8657",
   "metadata": {
    "id": "ee9e8657"
   },
   "source": [
    "большой дисбаласн классов, подготовим 3 выборки, \n",
    "- X_train_samp - продублируем класс1 для сбалансированности, и на этой выборке будем производить обучение сети\n",
    "- X_train - выборку оставим без изменения что бы при обучении считать метрику на train\n",
    "- X_val - валидационная выборка"
   ]
  },
  {
   "cell_type": "code",
   "execution_count": 3,
   "id": "1160b8ec",
   "metadata": {
    "id": "1160b8ec"
   },
   "outputs": [],
   "source": [
    "X_train, X_val = train_test_split(df_train, test_size=0.15, random_state=42)"
   ]
  },
  {
   "cell_type": "code",
   "execution_count": 4,
   "id": "18bf02c8",
   "metadata": {
    "id": "18bf02c8",
    "outputId": "98b71db9-de9e-480f-9a73-3aea54c6ce02"
   },
   "outputs": [
    {
     "data": {
      "text/plain": [
       "0    25252\n",
       "1     1915\n",
       "Name: label, dtype: int64"
      ]
     },
     "execution_count": 4,
     "metadata": {},
     "output_type": "execute_result"
    }
   ],
   "source": [
    "X_train['label'].value_counts()"
   ]
  },
  {
   "cell_type": "code",
   "execution_count": 5,
   "id": "a2c0efd0",
   "metadata": {
    "id": "a2c0efd0"
   },
   "outputs": [],
   "source": [
    "class0 = X_train.loc[X_train['label']==0]\n",
    "class1 = X_train.loc[X_train['label']==1]\n",
    "X_train_samp = class0.append(pd.DataFrame(np.repeat(class1.values, 13, axis=0), columns=class1.columns), ignore_index=True)"
   ]
  },
  {
   "cell_type": "code",
   "execution_count": 6,
   "id": "cf2ed391",
   "metadata": {
    "id": "cf2ed391",
    "outputId": "4ff65a2b-9c19-43e0-97eb-4a349fa7fe79"
   },
   "outputs": [
    {
     "data": {
      "text/plain": [
       "0    25252\n",
       "1    24895\n",
       "Name: label, dtype: int64"
      ]
     },
     "execution_count": 6,
     "metadata": {},
     "output_type": "execute_result"
    }
   ],
   "source": [
    "y_train_samp = X_train_samp['label'].astype(np.int32)\n",
    "X_train_samp = X_train_samp.drop(columns=['label'])\n",
    "y_train_samp.value_counts()"
   ]
  },
  {
   "cell_type": "code",
   "execution_count": 7,
   "id": "12d32889",
   "metadata": {
    "id": "12d32889",
    "outputId": "4214bbe1-9c9e-4b73-8094-e208c395e835"
   },
   "outputs": [
    {
     "data": {
      "text/plain": [
       "0    25252\n",
       "1     1915\n",
       "Name: label, dtype: int64"
      ]
     },
     "execution_count": 7,
     "metadata": {},
     "output_type": "execute_result"
    }
   ],
   "source": [
    "y_train = X_train['label'].astype(np.int32)\n",
    "X_train = X_train.drop(columns=['label'])\n",
    "y_train.value_counts()"
   ]
  },
  {
   "cell_type": "code",
   "execution_count": 8,
   "id": "28ddd43f",
   "metadata": {
    "id": "28ddd43f",
    "outputId": "87366f64-8a16-4106-ac26-e2d4e8121243"
   },
   "outputs": [
    {
     "data": {
      "text/plain": [
       "0    4468\n",
       "1     327\n",
       "Name: label, dtype: int64"
      ]
     },
     "execution_count": 8,
     "metadata": {},
     "output_type": "execute_result"
    }
   ],
   "source": [
    "y_val = X_val['label']\n",
    "X_val = X_val.drop(columns=['label'])\n",
    "y_val.value_counts()"
   ]
  },
  {
   "cell_type": "code",
   "execution_count": null,
   "id": "5799f0b9",
   "metadata": {
    "id": "5799f0b9"
   },
   "outputs": [],
   "source": []
  },
  {
   "cell_type": "markdown",
   "id": "c915032b",
   "metadata": {
    "id": "c915032b"
   },
   "source": [
    "## Предпроцессинг текста"
   ]
  },
  {
   "cell_type": "code",
   "execution_count": 9,
   "id": "b9fad066",
   "metadata": {},
   "outputs": [
    {
     "name": "stderr",
     "output_type": "stream",
     "text": [
      "[nltk_data] Downloading package wordnet to\n",
      "[nltk_data]     C:\\Users\\spvag\\AppData\\Roaming\\nltk_data...\n",
      "[nltk_data]   Package wordnet is already up-to-date!\n",
      "[nltk_data] Downloading package averaged_perceptron_tagger to\n",
      "[nltk_data]     C:\\Users\\spvag\\AppData\\Roaming\\nltk_data...\n",
      "[nltk_data]   Package averaged_perceptron_tagger is already up-to-\n",
      "[nltk_data]       date!\n",
      "[nltk_data] Downloading package punkt to\n",
      "[nltk_data]     C:\\Users\\spvag\\AppData\\Roaming\\nltk_data...\n",
      "[nltk_data]   Package punkt is already up-to-date!\n"
     ]
    },
    {
     "data": {
      "text/plain": [
       "True"
      ]
     },
     "execution_count": 9,
     "metadata": {},
     "output_type": "execute_result"
    }
   ],
   "source": [
    "nltk.download(\"wordnet\")\n",
    "nltk.download('averaged_perceptron_tagger')\n",
    "nltk.download(\"punkt\")"
   ]
  },
  {
   "cell_type": "code",
   "execution_count": 10,
   "id": "53309d28",
   "metadata": {
    "id": "53309d28"
   },
   "outputs": [],
   "source": [
    "max_words = 5000\n",
    "max_len = 40\n",
    "num_classes = 1"
   ]
  },
  {
   "cell_type": "code",
   "execution_count": 11,
   "id": "0f9dc501",
   "metadata": {},
   "outputs": [],
   "source": [
    "sw = set(get_stop_words(\"en\"))\n",
    "puncts = set(punctuation)\n",
    "lemmatizer = WordNetLemmatizer()"
   ]
  },
  {
   "cell_type": "code",
   "execution_count": 12,
   "id": "a415d3d5",
   "metadata": {},
   "outputs": [],
   "source": [
    "def get_wordnet_pos(treebank_tag):\n",
    "    if treebank_tag[0][1].startswith('J'):\n",
    "        return wordnet.ADJ\n",
    "    elif treebank_tag[0][1].startswith('V'):\n",
    "        return wordnet.VERB\n",
    "    elif treebank_tag[0][1].startswith('N'):\n",
    "        return wordnet.NOUN\n",
    "    elif treebank_tag[0][1].startswith('R'):\n",
    "        return wordnet.ADV\n",
    "    else:\n",
    "        return wordnet.NOUN "
   ]
  },
  {
   "cell_type": "code",
   "execution_count": 13,
   "id": "a07f676c",
   "metadata": {
    "id": "a07f676c"
   },
   "outputs": [],
   "source": [
    "def preprocess_text(txt):\n",
    "    txt = str(txt)\n",
    "    txt = \"\".join(c for c in txt if c not in puncts)\n",
    "    txt = txt.lower()\n",
    "    txt = [lemmatizer.lemmatize(word, get_wordnet_pos(nltk.pos_tag([word]))) for word in txt.split() if word not in sw]\n",
    "    return \" \".join(txt)"
   ]
  },
  {
   "cell_type": "code",
   "execution_count": 14,
   "id": "87d7364d",
   "metadata": {
    "id": "87d7364d",
    "outputId": "70e0c70e-3c6f-4df8-b07a-93890e78272b"
   },
   "outputs": [
    {
     "name": "stderr",
     "output_type": "stream",
     "text": [
      "100%|███████████████████████████████████████████████████████████████████████████| 50147/50147 [06:09<00:00, 135.64it/s]\n",
      "100%|███████████████████████████████████████████████████████████████████████████| 27167/27167 [03:08<00:00, 143.96it/s]\n",
      "100%|█████████████████████████████████████████████████████████████████████████████| 4795/4795 [00:34<00:00, 138.24it/s]\n"
     ]
    }
   ],
   "source": [
    "tqdm.pandas()\n",
    "X_train_samp['tweet'] = X_train_samp['tweet'].progress_apply(preprocess_text)\n",
    "X_train['tweet'] = X_train['tweet'].progress_apply(preprocess_text)\n",
    "X_val['tweet'] = X_val['tweet'].progress_apply(preprocess_text)"
   ]
  },
  {
   "cell_type": "code",
   "execution_count": 15,
   "id": "a9570968",
   "metadata": {
    "id": "a9570968"
   },
   "outputs": [],
   "source": [
    "train_corpus = \" \".join(X_train[\"tweet\"])\n",
    "train_corpus = train_corpus.lower()\n",
    "tokens = word_tokenize(train_corpus)"
   ]
  },
  {
   "cell_type": "code",
   "execution_count": 16,
   "id": "a1bef041",
   "metadata": {
    "id": "a1bef041",
    "outputId": "e68ce2d0-82ca-4ed5-c8a4-1afd94ccca3e"
   },
   "outputs": [
    {
     "data": {
      "text/plain": [
       "4999"
      ]
     },
     "execution_count": 16,
     "metadata": {},
     "output_type": "execute_result"
    }
   ],
   "source": [
    "tokens_filtered = [word for word in tokens if word.isalnum()]\n",
    "token_lemma = [lemmatizer.lemmatize(word, get_wordnet_pos(nltk.pos_tag([word]))) for word in tokens_filtered]\n",
    "dist = FreqDist(token_lemma)\n",
    "tokens_filtered_top = [pair[0] for pair in dist.most_common(max_words-1)]  # вычитание 1 для padding\n",
    "len(tokens_filtered_top)"
   ]
  },
  {
   "cell_type": "code",
   "execution_count": 17,
   "id": "90de6ea9",
   "metadata": {
    "id": "90de6ea9"
   },
   "outputs": [],
   "source": [
    "vocabulary = {v: k for k, v in dict(enumerate(tokens_filtered_top, 1)).items()}"
   ]
  },
  {
   "cell_type": "code",
   "execution_count": 18,
   "id": "ca2f1f8d",
   "metadata": {
    "id": "ca2f1f8d"
   },
   "outputs": [],
   "source": [
    "def text_to_sequence(text, maxlen):\n",
    "    result = []\n",
    "    tokens = word_tokenize(text.lower())\n",
    "    tokens_filtered = [word for word in tokens if word.isalnum()]\n",
    "    for word in tokens_filtered:\n",
    "        if word in vocabulary:\n",
    "            result.append(vocabulary[word])\n",
    "\n",
    "    padding = [0] * (maxlen-len(result))\n",
    "    return result[-maxlen:] + padding"
   ]
  },
  {
   "cell_type": "code",
   "execution_count": 19,
   "id": "910cd69d",
   "metadata": {
    "id": "910cd69d",
    "outputId": "4f109b0e-c247-4491-9e69-68c7986bfeec"
   },
   "outputs": [
    {
     "name": "stdout",
     "output_type": "stream",
     "text": [
      "Wall time: 9.19 s\n"
     ]
    }
   ],
   "source": [
    "%%time\n",
    "x_train = np.asarray([text_to_sequence(text, max_len) for text in X_train[\"tweet\"]])\n",
    "x_valid = np.asarray([text_to_sequence(text, max_len) for text in X_val[\"tweet\"]])\n",
    "x_train_samp = np.asarray([text_to_sequence(text, max_len) for text in X_train_samp[\"tweet\"]])"
   ]
  },
  {
   "cell_type": "markdown",
   "id": "985715c2",
   "metadata": {
    "id": "985715c2"
   },
   "source": [
    "## Модель"
   ]
  },
  {
   "cell_type": "code",
   "execution_count": 21,
   "id": "etRiLnpWIVXN",
   "metadata": {
    "id": "etRiLnpWIVXN"
   },
   "outputs": [],
   "source": [
    "class NetRNN(nn.Module):\n",
    "    def __init__(self, vocab_size=2000, embedding_dim=256, hidden_dim=20, use_last=False):\n",
    "        super().__init__()\n",
    "        self.embedding = nn.Embedding(vocab_size, embedding_dim)\n",
    "        self.rnn = nn.RNN(embedding_dim, hidden_dim, num_layers=3, batch_first=True, )\n",
    "        self.relu = nn.LeakyReLU()\n",
    "        self.linear_1 = nn.Linear(hidden_dim,hidden_dim * 8)\n",
    "        self.linear_2 = nn.Linear(hidden_dim*8, hidden_dim*4)        \n",
    "        self.linear_3 = nn.Linear(hidden_dim*4, 1)\n",
    "        self.dp = nn.Dropout(0.25)\n",
    "        self.use_last = use_last\n",
    "        \n",
    "        \n",
    "    def forward(self, x):        \n",
    "        x = self.embedding(x)\n",
    "        x = self.dp(x)\n",
    "        rnn_out, ht = self.rnn(x) \n",
    "        if self.use_last:\n",
    "            last_tensor = rnn_out[:,-1,:]\n",
    "        else:\n",
    "            last_tensor = torch.mean(rnn_out[:,:], dim=1)\n",
    "        output = self.linear_1(last_tensor)\n",
    "        output = self.relu(output)\n",
    "        output = self.dp(output)\n",
    "        output = self.linear_2(output)\n",
    "        output = self.relu(output)\n",
    "        output = self.dp(output)        \n",
    "        output = self.linear_3(output)        \n",
    "        output = F.sigmoid(output)\n",
    "        return output"
   ]
  },
  {
   "cell_type": "code",
   "execution_count": 22,
   "id": "310f912c",
   "metadata": {},
   "outputs": [],
   "source": [
    "class NetGRU(nn.Module):\n",
    "    def __init__(self, vocab_size=2000, embedding_dim=256, hidden_dim=20, use_last=False):\n",
    "        super().__init__()\n",
    "        self.embedding = nn.Embedding(vocab_size, embedding_dim)\n",
    "        self.rnn = nn.GRU(embedding_dim, hidden_dim, num_layers=3, batch_first=True, )\n",
    "        self.relu = nn.LeakyReLU()\n",
    "        self.linear_1 = nn.Linear(hidden_dim,hidden_dim * 8)\n",
    "        self.linear_2 = nn.Linear(hidden_dim*8, hidden_dim*4)        \n",
    "        self.linear_3 = nn.Linear(hidden_dim*4, 1)\n",
    "        self.dp = nn.Dropout(0.25)\n",
    "        self.use_last = use_last\n",
    "        \n",
    "        \n",
    "    def forward(self, x):        \n",
    "        x = self.embedding(x)\n",
    "        x = self.dp(x)\n",
    "        rnn_out, ht = self.rnn(x) \n",
    "        if self.use_last:\n",
    "            last_tensor = rnn_out[:,-1,:]\n",
    "        else:\n",
    "            last_tensor = torch.mean(rnn_out[:,:], dim=1)\n",
    "        output = self.linear_1(last_tensor)\n",
    "        output = self.relu(output)\n",
    "        output = self.dp(output)\n",
    "        output = self.linear_2(output)\n",
    "        output = self.relu(output)\n",
    "        output = self.dp(output)        \n",
    "        output = self.linear_3(output)        \n",
    "        output = F.sigmoid(output)\n",
    "        return output"
   ]
  },
  {
   "cell_type": "code",
   "execution_count": 23,
   "id": "vinpVYFOIcgi",
   "metadata": {
    "id": "vinpVYFOIcgi"
   },
   "outputs": [],
   "source": [
    "class NetLSTM(nn.Module):\n",
    "    def __init__(self, vocab_size=2000, embedding_dim=256, hidden_dim=20, use_last=False):\n",
    "        super().__init__()\n",
    "        self.embedding = nn.Embedding(vocab_size, embedding_dim)\n",
    "        self.rnn = nn.LSTM(embedding_dim, hidden_dim, num_layers=3, batch_first=True, )\n",
    "        self.relu = nn.LeakyReLU()\n",
    "        self.linear_1 = nn.Linear(hidden_dim,hidden_dim * 8)\n",
    "        self.linear_2 = nn.Linear(hidden_dim*8, hidden_dim*4)        \n",
    "        self.linear_3 = nn.Linear(hidden_dim*4, 1)\n",
    "        self.dp = nn.Dropout(0.25)\n",
    "        self.use_last = use_last\n",
    "        \n",
    "        \n",
    "    def forward(self, x):        \n",
    "        x = self.embedding(x)\n",
    "        x = self.dp(x)\n",
    "        rnn_out, ht = self.rnn(x) \n",
    "        if self.use_last:\n",
    "            last_tensor = rnn_out[:,-1,:]\n",
    "        else:\n",
    "            last_tensor = torch.mean(rnn_out[:,:], dim=1)\n",
    "        output = self.linear_1(last_tensor)\n",
    "        output = self.relu(output)\n",
    "        output = self.dp(output)\n",
    "        output = self.linear_2(output)\n",
    "        output = self.relu(output)\n",
    "        output = self.dp(output)        \n",
    "        output = self.linear_3(output)        \n",
    "        output = F.sigmoid(output)\n",
    "        return output"
   ]
  },
  {
   "cell_type": "code",
   "execution_count": 24,
   "id": "b373242e",
   "metadata": {
    "id": "b373242e"
   },
   "outputs": [],
   "source": [
    "from torch.utils.data import DataLoader, Dataset\n",
    "\n",
    "\n",
    "class DataWrapper(Dataset):\n",
    "    def __init__(self, data, target, transform=None):\n",
    "        self.data = torch.from_numpy(data).long()\n",
    "        self.target = torch.from_numpy(target).long()\n",
    "        self.transform = transform\n",
    "        \n",
    "    def __getitem__(self, index):\n",
    "        x = self.data[index]\n",
    "        y = self.target[index]\n",
    "        \n",
    "        if self.transform:\n",
    "            x = self.transform(x)\n",
    "            \n",
    "        return x, y\n",
    "    \n",
    "    def __len__(self):\n",
    "        return len(self.data)"
   ]
  },
  {
   "cell_type": "code",
   "execution_count": 82,
   "id": "4f0856ce",
   "metadata": {
    "id": "4f0856ce"
   },
   "outputs": [],
   "source": [
    "epochs = 20\n",
    "batch_size = 512\n",
    "print_batch_n = 100"
   ]
  },
  {
   "cell_type": "code",
   "execution_count": 83,
   "id": "1b33254b",
   "metadata": {
    "id": "1b33254b"
   },
   "outputs": [],
   "source": [
    "train_dataset = DataWrapper(x_train, y_train.values)\n",
    "train_loader = DataLoader(train_dataset, batch_size=batch_size, shuffle=True)\n",
    "\n",
    "val_dataset = DataWrapper(x_valid, y_val.values)\n",
    "val_loader = DataLoader(val_dataset, batch_size=8, shuffle=True)\n",
    "\n",
    "train_dataset_samp = DataWrapper(x_train_samp, y_train_samp.values)\n",
    "train_loader_samp = DataLoader(train_dataset_samp, batch_size=batch_size, shuffle=True)"
   ]
  },
  {
   "cell_type": "code",
   "execution_count": 84,
   "id": "2dcd6ea1",
   "metadata": {
    "id": "2dcd6ea1",
    "outputId": "22a534d8-fc19-4ed3-ae29-4aada3bedeeb"
   },
   "outputs": [
    {
     "data": {
      "text/plain": [
       "'cpu'"
      ]
     },
     "execution_count": 84,
     "metadata": {},
     "output_type": "execute_result"
    }
   ],
   "source": [
    "modelRNN = NetRNN(max_words, 256, 40, use_last=False)\n",
    "modelGPU = NetGRU(max_words, 256, 40, use_last=False)\n",
    "modelLSTM = NetLSTM(max_words, 256, 40, use_last=False)\n",
    "device = 'cuda' if torch.cuda.is_available() else 'cpu'\n",
    "device"
   ]
  },
  {
   "cell_type": "code",
   "execution_count": 85,
   "id": "87b8f507",
   "metadata": {
    "id": "87b8f507"
   },
   "outputs": [],
   "source": [
    "def metrics(model, loader):\n",
    "    model.eval()\n",
    "    th = 0.5\n",
    "    running_total = 0.0\n",
    "    tp = 0.0\n",
    "    tp_fp = 0.0\n",
    "    tp_fn = 0.0\n",
    "    running_right = 0.0\n",
    "    for j, data in enumerate(loader):\n",
    "        labels = data[1].to(device)\n",
    "        outputs = model(data[0].to(device))\n",
    "        running_total += len(data[1])\n",
    "        pred_labels = torch.squeeze((outputs > th).int())\n",
    "        tp += (labels*pred_labels).sum()\n",
    "        tp_fp += pred_labels.sum()\n",
    "        tp_fn += labels.sum()\n",
    "        running_right += (labels == pred_labels).sum()\n",
    "    precision = tp/tp_fp\n",
    "    recall = tp/tp_fn\n",
    "    f1_score = 2*(precision*recall)/(precision+recall)\n",
    "    accuracy = running_right/running_total \n",
    "    model.train()    \n",
    "    return precision, recall, f1_score, accuracy\n",
    "    "
   ]
  },
  {
   "cell_type": "code",
   "execution_count": 86,
   "id": "670f7491",
   "metadata": {
    "id": "670f7491",
    "outputId": "606637aa-6128-4ca0-9edc-5aa34330263f"
   },
   "outputs": [],
   "source": [
    "def fit_model(model, train_loader_samp = train_loader_samp,  train_loader = train_loader, val_loader = val_loader):\n",
    "\n",
    "    optimizer = torch.optim.Adam(model.parameters(), lr=0.005)\n",
    "    criterion = nn.BCELoss()   \n",
    "    model = model.to(device)\n",
    "    model.train()\n",
    "    train_history = []\n",
    "    test_history = []\n",
    "\n",
    "    for epoch in range(epochs):  \n",
    "        running_items, running_right = 0.0, 0.0\n",
    "        for i, data in enumerate(train_loader_samp, 0):\n",
    "            inputs, labels = data[0].to(device), data[1].to(device)\n",
    "            optimizer.zero_grad()\n",
    "            outputs = model(inputs)\n",
    "            loss = criterion(outputs, labels.float().view(-1, 1))\n",
    "            loss.backward()\n",
    "            optimizer.step()\n",
    "            loss = loss.item()\n",
    "        precision_val, rerall_val, f1_score_val, acc_val = metrics(model, val_loader)\n",
    "        precision_train, rerall_train, f1_score_train, acc_train = metrics(model, train_loader)    \n",
    "#         print(f'Epoch [{epoch + 1}/{epochs}]. ' \\\n",
    "#                 f'Step [{i + 1}/{len(train_loader_samp)}].  ' \\\n",
    "#                 f'Loss: {loss:.3f}.  ' \\\n",
    "#                 f'Train f1_score: {f1_score_train:.3f}.  ' \\\n",
    "#                 f'Test f1_score: {f1_score_val:.3f}.'         \n",
    "#              )\n",
    "        train_history.append([precision_train, rerall_train, f1_score_train, acc_train])\n",
    "        test_history.append([precision_val, rerall_val, f1_score_val, acc_val])    \n",
    "        \n",
    "    print('Training is finished!')\n",
    "    return train_history, test_history"
   ]
  },
  {
   "cell_type": "code",
   "execution_count": 87,
   "id": "0446a72c",
   "metadata": {},
   "outputs": [
    {
     "name": "stderr",
     "output_type": "stream",
     "text": [
      "C:\\anaconda3\\lib\\site-packages\\torch\\nn\\functional.py:1960: UserWarning: nn.functional.sigmoid is deprecated. Use torch.sigmoid instead.\n",
      "  warnings.warn(\"nn.functional.sigmoid is deprecated. Use torch.sigmoid instead.\")\n"
     ]
    },
    {
     "name": "stdout",
     "output_type": "stream",
     "text": [
      "Training is finished!\n",
      "Model RNN Training is finished!\n",
      "Train f1_score: 0.967,   Test f1_score: 0.636\n",
      "Training is finished!\n",
      "Model GPU Training is finished!\n",
      "Train f1_score: 0.991,   Test f1_score: 0.671\n",
      "Training is finished!\n",
      "Model LSTM Training is finished!\n",
      "Train f1_score: 0.992,   Test f1_score: 0.668\n"
     ]
    }
   ],
   "source": [
    "models = {'RNN':modelRNN, 'GPU':modelGPU, 'LSTM':modelLSTM}\n",
    "hist_train = {}\n",
    "hist_test = {}\n",
    "for key, model in models.items():\n",
    "    hist_train[key], hist_test[key] = fit_model(model)\n",
    "    print(f'Model {key} Training is finished!')\n",
    "    print(f'Train f1_score: {hist_train[key][-1][2]:.3},   Test f1_score: {hist_test[key][-1][2]:.3}')"
   ]
  },
  {
   "cell_type": "code",
   "execution_count": 89,
   "id": "0d9d39b4",
   "metadata": {},
   "outputs": [
    {
     "data": {
      "image/png": "[encoded data removed]",
      "text/plain": [
       "<Figure size 648x1296 with 3 Axes>"
      ]
     },
     "metadata": {
      "needs_background": "light"
     },
     "output_type": "display_data"
    }
   ],
   "source": [
    "plt.figure(figsize=(9, 18))\n",
    "i = 1\n",
    "for key, model_ in models.items():\n",
    "    plt.subplot(3, 1, i)\n",
    "    plt.subplots_adjust(hspace=0.5)\n",
    "    plt.title(f'model: {key}')\n",
    "    plt.plot(range(len(np.array(hist_train[key])[:,2])), np.array(hist_train[key])[:,2], label = 'train')\n",
    "    plt.plot(range(len(np.array(hist_test[key])[:,2])), np.array(hist_test[key])[:,2], label = 'test')\n",
    "    plt.legend()\n",
    "    plt.xlabel('epoch')\n",
    "    plt.ylabel('f1_score')\n",
    "    plt.grid()\n",
    "    plt.ylim(0,1)\n",
    "    i +=1"
   ]
  },
  {
   "cell_type": "code",
   "execution_count": 90,
   "id": "1439e6e4",
   "metadata": {},
   "outputs": [
    {
     "data": {
      "image/png": "[encoded data removed]",
      "text/plain": [
       "<Figure size 1296x648 with 1 Axes>"
      ]
     },
     "metadata": {
      "needs_background": "light"
     },
     "output_type": "display_data"
    }
   ],
   "source": [
    "plt.figure(figsize=(18, 9))\n",
    "for key, model_ in models.items():\n",
    "    plt.title(f'f1_score на тестовой выборке')\n",
    "    plt.plot(range(len(np.array(hist_test[key])[:,2])), np.array(hist_test[key])[:,2], label = key)\n",
    "    plt.legend()\n",
    "    plt.grid()\n",
    "    plt.xlabel('epoch')\n",
    "    plt.ylabel('f1_score')\n",
    "    plt.ylim(0.5,1)\n",
    "    i +=1"
   ]
  },
  {
   "cell_type": "markdown",
   "id": "2e511945",
   "metadata": {},
   "source": [
    "## Выводы:\n",
    "\n",
    "Тестовые показатели моделей не сильно отличаются. \n",
    "Модели обучались на одних и тех же начальных условиях, чтобы сравнение можно было делать более обоснованно. \n",
    "\n",
    "LSTM показала самый высокий результат, также можно заметить, что обучение произошло быстрее остальных моделей. На последних итерациях виден процесс переобучения.\n"
   ]
  }
 ],
 "metadata": {
  "colab": {
   "collapsed_sections": [],
   "name": "HW_7.ipynb",
   "provenance": []
  },
  "kernelspec": {
   "display_name": "Python 3 (ipykernel)",
   "language": "python",
   "name": "python3"
  },
  "language_info": {
   "codemirror_mode": {
    "name": "ipython",
    "version": 3
   },
   "file_extension": ".py",
   "mimetype": "text/x-python",
   "name": "python",
   "nbconvert_exporter": "python",
   "pygments_lexer": "ipython3",
   "version": "3.9.7"
  }
 },
 "nbformat": 4,
 "nbformat_minor": 5
}
