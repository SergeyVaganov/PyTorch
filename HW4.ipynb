{
 "cells": [
  {
   "cell_type": "code",
   "execution_count": 6,
   "id": "87bf5350",
   "metadata": {
    "executionInfo": {
     "elapsed": 14,
     "status": "ok",
     "timestamp": 1660811488105,
     "user": {
      "displayName": "Влад Ваганов",
      "userId": "14391973791239611127"
     },
     "user_tz": -300
    },
    "id": "87bf5350"
   },
   "outputs": [],
   "source": [
    "import math\n",
    "import numpy as np\n",
    "import torch.nn as nn\n",
    "import torch\n",
    "import matplotlib.pyplot as plt\n",
    "from PIL import Image\n",
    "from torchvision import transforms, datasets\n",
    "from torch import optim \n",
    "from torchvision import models\n",
    "from torchsummary import summary"
   ]
  },
  {
   "cell_type": "code",
   "execution_count": 7,
   "id": "2fedf0dd",
   "metadata": {
    "executionInfo": {
     "elapsed": 275,
     "status": "ok",
     "timestamp": 1660811490368,
     "user": {
      "displayName": "Влад Ваганов",
      "userId": "14391973791239611127"
     },
     "user_tz": -300
    },
    "id": "2fedf0dd"
   },
   "outputs": [],
   "source": [
    "class MyOwnCifar(torch.utils.data.Dataset):\n",
    "   \n",
    "    def __init__(self, init_dataset, transform=None):\n",
    "        self._base_dataset = init_dataset\n",
    "        self.transform = transform\n",
    "\n",
    "    def __len__(self):\n",
    "        return len(self._base_dataset)\n",
    "\n",
    "    def __getitem__(self, idx):\n",
    "        img = self._base_dataset[idx][0]\n",
    "        if self.transform is not None:\n",
    "            img = self.transform(img)\n",
    "        return img, self._base_dataset[idx][1]"
   ]
  },
  {
   "cell_type": "code",
   "execution_count": 8,
   "id": "ad75c325",
   "metadata": {
    "colab": {
     "base_uri": "https://localhost:8080/",
     "height": 35
    },
    "executionInfo": {
     "elapsed": 17,
     "status": "ok",
     "timestamp": 1660811492303,
     "user": {
      "displayName": "Влад Ваганов",
      "userId": "14391973791239611127"
     },
     "user_tz": -300
    },
    "id": "ad75c325",
    "outputId": "a97cfb5e-1401-468a-fade-0349ef3b70cc"
   },
   "outputs": [
    {
     "data": {
      "application/vnd.google.colaboratory.intrinsic+json": {
       "type": "string"
      },
      "text/plain": [
       "'cuda'"
      ]
     },
     "execution_count": 8,
     "metadata": {},
     "output_type": "execute_result"
    }
   ],
   "source": [
    "device = 'cuda' if torch.cuda.is_available() else 'cpu'\n",
    "device"
   ]
  },
  {
   "cell_type": "code",
   "execution_count": 9,
   "id": "9589b9ca",
   "metadata": {
    "colab": {
     "base_uri": "https://localhost:8080/"
    },
    "executionInfo": {
     "elapsed": 2134,
     "status": "ok",
     "timestamp": 1660811495792,
     "user": {
      "displayName": "Влад Ваганов",
      "userId": "14391973791239611127"
     },
     "user_tz": -300
    },
    "id": "9589b9ca",
    "outputId": "47ce77d7-7abe-4bc9-fa66-c79d3df1187c"
   },
   "outputs": [
    {
     "name": "stdout",
     "output_type": "stream",
     "text": [
      "Files already downloaded and verified\n",
      "Files already downloaded and verified\n"
     ]
    }
   ],
   "source": [
    "path_cifar100 = './cifar100'\n",
    "train_dataset_cifar100 = datasets.CIFAR100(root=path_cifar100, train=True, download=True)\n",
    "test_dataset_cifar100 = datasets.CIFAR100(root=path_cifar100, train=False, download=True)"
   ]
  },
  {
   "cell_type": "markdown",
   "id": "a378acf1",
   "metadata": {},
   "source": [
    "## CNN (самописная) на CIFAR-100."
   ]
  },
  {
   "cell_type": "code",
   "execution_count": 10,
   "id": "jHxRWfWyF4e-",
   "metadata": {
    "executionInfo": {
     "elapsed": 278,
     "status": "ok",
     "timestamp": 1660811509312,
     "user": {
      "displayName": "Влад Ваганов",
      "userId": "14391973791239611127"
     },
     "user_tz": -300
    },
    "id": "jHxRWfWyF4e-"
   },
   "outputs": [],
   "source": [
    "train_actions = transforms.ToTensor()\n",
    "test_transforms = transforms.ToTensor()"
   ]
  },
  {
   "cell_type": "code",
   "execution_count": 11,
   "id": "XDvcN9PyF5D5",
   "metadata": {
    "executionInfo": {
     "elapsed": 359,
     "status": "ok",
     "timestamp": 1660811510946,
     "user": {
      "displayName": "Влад Ваганов",
      "userId": "14391973791239611127"
     },
     "user_tz": -300
    },
    "id": "XDvcN9PyF5D5"
   },
   "outputs": [],
   "source": [
    "train_dataset = MyOwnCifar(train_dataset_cifar100, train_actions)\n",
    "test_dataset = MyOwnCifar(test_dataset_cifar100, test_transforms)"
   ]
  },
  {
   "cell_type": "code",
   "execution_count": 12,
   "id": "91ec312b",
   "metadata": {
    "executionInfo": {
     "elapsed": 358,
     "status": "ok",
     "timestamp": 1660811513297,
     "user": {
      "displayName": "Влад Ваганов",
      "userId": "14391973791239611127"
     },
     "user_tz": -300
    },
    "id": "91ec312b"
   },
   "outputs": [],
   "source": [
    "loader_train = torch.utils.data.DataLoader(dataset=train_dataset,\n",
    "                                           batch_size=128, \n",
    "                                           shuffle=True)\n",
    "loader_test = torch.utils.data.DataLoader(test_dataset, batch_size=128,\n",
    "                                          shuffle=False)"
   ]
  },
  {
   "cell_type": "code",
   "execution_count": 13,
   "id": "d78e7db7",
   "metadata": {
    "executionInfo": {
     "elapsed": 281,
     "status": "ok",
     "timestamp": 1660811517850,
     "user": {
      "displayName": "Влад Ваганов",
      "userId": "14391973791239611127"
     },
     "user_tz": -300
    },
    "id": "d78e7db7"
   },
   "outputs": [],
   "source": [
    "class Net(nn.Module):\n",
    "    def __init__(self, device='cpu'):\n",
    "        super().__init__()\n",
    "        self.net = nn.Sequential(\n",
    "          nn.BatchNorm2d(3), \n",
    "          nn.Conv2d(3, 64, 3),\n",
    "          nn.LeakyReLU(),\n",
    "          nn.BatchNorm2d(64), \n",
    "          nn.Conv2d(64, 64, 3),\n",
    "          nn.LeakyReLU(),\n",
    "          nn.BatchNorm2d(64), \n",
    "          nn.MaxPool2d(2, 2), #16\n",
    "          nn.Conv2d(64, 128, 3),\n",
    "          nn.LeakyReLU(),          \n",
    "          nn.BatchNorm2d(128), \n",
    "          nn.Conv2d(128, 128, 3),\n",
    "          nn.LeakyReLU(),          \n",
    "          nn.BatchNorm2d(128),                     \n",
    "          nn.MaxPool2d(2, 2), #16\n",
    "          nn.Conv2d(128, 256, 3),\n",
    "          nn.LeakyReLU(),\n",
    "          nn.BatchNorm2d(256),           \n",
    "          nn.Conv2d(256, 512, 3),\n",
    "          nn.Flatten(),\n",
    "          nn.Linear(512, 1024),\n",
    "          nn.LeakyReLU(),    \n",
    "          nn.Dropout(0.2),\n",
    "          nn.BatchNorm1d(1024),                 \n",
    "          nn.Linear(1024, 1024),\n",
    "          nn.LeakyReLU(), \n",
    "          nn.Dropout(0.2),             \n",
    "          nn.BatchNorm1d(1024),                    \n",
    "          nn.Linear(1024, 100), \n",
    "          nn.Softmax(dim=1)\n",
    "        )\n",
    "        self.mean_target_train = 0\n",
    "        self.mean_target_test = 0\n",
    "        self.history = None\n",
    "        self.device=device\n",
    "\n",
    "        \n",
    "    def forward(self, x):\n",
    "        x = self.net(x)\n",
    "        return x\n",
    "\n",
    "    \n",
    "    def fit(self, loader_train, loadre_test, epochs, loss, optimazer, lr, show_log=True):\n",
    "        self.train()\n",
    "        self.history = []\n",
    "        self.optimazer = optimazer(self.parameters(), lr)\n",
    "        self.loss = loss()\n",
    "        for epoch in range(epochs):\n",
    "            running_loss = 0.0\n",
    "            running_items = 0.0\n",
    "            predict_ture = 0.0            \n",
    "            for i, data in enumerate(loader_train):\n",
    "                X_train, y_train = data[0].to(self.device), data[1].to(self.device)\n",
    "                self.optimazer.zero_grad()\n",
    "                outputs = self(X_train)\n",
    "                loss_iter = self.loss(outputs, y_train)\n",
    "                loss_iter.backward()\n",
    "                self.optimazer.step()\n",
    "                if i%200 ==0:\n",
    "                    loss_train, acc_train = self.loss_fn(loader_train)\n",
    "                    loss_test, acc_test = self.loss_fn(loader_test)\n",
    "                    self.history.append([epoch+1, i+1, acc_train, acc_test])\n",
    "                    if show_log:\n",
    "                        print(f'Epoch [{epoch + 1:2}/{epochs}]. ' \\\n",
    "                              f'Step [{i + 1:3}/{len(loader_train)}]. ' \\\n",
    "                              f'Loss_valid: {loss_train:.4f}  '\\\n",
    "                              f'Acc_valid: {acc_train:.3f}  '\\\n",
    "                              f'Loss_test: {loss_test:.4f}  '\\\n",
    "                              f'Acc_test: {acc_test:.3f}'\n",
    "                              )\n",
    "                running_loss, running_items = 0.0, 0.0\n",
    "        print(f'Training is finished with optimazer: {optimazer}')\n",
    "        return self.history\n",
    "\n",
    "    \n",
    "    def loss_fn(self, loader):\n",
    "        self.eval()\n",
    "        running_loss = 0.0\n",
    "        running_items = 0.0\n",
    "        predict_ture = 0.0        \n",
    "        for i, data in enumerate(loader):\n",
    "            X_data, y_data = data[0].to(self.device), data[1].to(self.device)\n",
    "            outputs = self(X_data)\n",
    "            loss_iter = self.loss(outputs, y_data)\n",
    "            running_loss += loss_iter.item()\n",
    "            _, predicted = torch.max(outputs, 1)\n",
    "            predict_ture += (y_data==predicted).sum().item()\n",
    "            running_items += len(y_data)\n",
    "        self.train()  \n",
    "        return running_loss / running_items, predict_ture/running_items\n",
    "  "
   ]
  },
  {
   "cell_type": "code",
   "execution_count": 14,
   "id": "8321aa61",
   "metadata": {
    "executionInfo": {
     "elapsed": 3970,
     "status": "ok",
     "timestamp": 1660811527539,
     "user": {
      "displayName": "Влад Ваганов",
      "userId": "14391973791239611127"
     },
     "user_tz": -300
    },
    "id": "8321aa61",
    "scrolled": false
   },
   "outputs": [],
   "source": [
    "net = Net(device).to(device)"
   ]
  },
  {
   "cell_type": "code",
   "execution_count": 15,
   "id": "a94efd94",
   "metadata": {
    "colab": {
     "base_uri": "https://localhost:8080/"
    },
    "executionInfo": {
     "elapsed": 6471,
     "status": "ok",
     "timestamp": 1660811535651,
     "user": {
      "displayName": "Влад Ваганов",
      "userId": "14391973791239611127"
     },
     "user_tz": -300
    },
    "id": "a94efd94",
    "outputId": "65076b42-fbd9-4e56-deda-368ee55e32e3"
   },
   "outputs": [
    {
     "name": "stdout",
     "output_type": "stream",
     "text": [
      "----------------------------------------------------------------\n",
      "        Layer (type)               Output Shape         Param #\n",
      "================================================================\n",
      "       BatchNorm2d-1            [-1, 3, 32, 32]               6\n",
      "            Conv2d-2           [-1, 64, 30, 30]           1,792\n",
      "         LeakyReLU-3           [-1, 64, 30, 30]               0\n",
      "       BatchNorm2d-4           [-1, 64, 30, 30]             128\n",
      "            Conv2d-5           [-1, 64, 28, 28]          36,928\n",
      "         LeakyReLU-6           [-1, 64, 28, 28]               0\n",
      "       BatchNorm2d-7           [-1, 64, 28, 28]             128\n",
      "         MaxPool2d-8           [-1, 64, 14, 14]               0\n",
      "            Conv2d-9          [-1, 128, 12, 12]          73,856\n",
      "        LeakyReLU-10          [-1, 128, 12, 12]               0\n",
      "      BatchNorm2d-11          [-1, 128, 12, 12]             256\n",
      "           Conv2d-12          [-1, 128, 10, 10]         147,584\n",
      "        LeakyReLU-13          [-1, 128, 10, 10]               0\n",
      "      BatchNorm2d-14          [-1, 128, 10, 10]             256\n",
      "        MaxPool2d-15            [-1, 128, 5, 5]               0\n",
      "           Conv2d-16            [-1, 256, 3, 3]         295,168\n",
      "        LeakyReLU-17            [-1, 256, 3, 3]               0\n",
      "      BatchNorm2d-18            [-1, 256, 3, 3]             512\n",
      "           Conv2d-19            [-1, 512, 1, 1]       1,180,160\n",
      "          Flatten-20                  [-1, 512]               0\n",
      "           Linear-21                 [-1, 1024]         525,312\n",
      "        LeakyReLU-22                 [-1, 1024]               0\n",
      "          Dropout-23                 [-1, 1024]               0\n",
      "      BatchNorm1d-24                 [-1, 1024]           2,048\n",
      "           Linear-25                 [-1, 1024]       1,049,600\n",
      "        LeakyReLU-26                 [-1, 1024]               0\n",
      "          Dropout-27                 [-1, 1024]               0\n",
      "      BatchNorm1d-28                 [-1, 1024]           2,048\n",
      "           Linear-29                  [-1, 100]         102,500\n",
      "          Softmax-30                  [-1, 100]               0\n",
      "================================================================\n",
      "Total params: 3,418,282\n",
      "Trainable params: 3,418,282\n",
      "Non-trainable params: 0\n",
      "----------------------------------------------------------------\n",
      "Input size (MB): 0.01\n",
      "Forward/backward pass size (MB): 3.45\n",
      "Params size (MB): 13.04\n",
      "Estimated Total Size (MB): 16.50\n",
      "----------------------------------------------------------------\n"
     ]
    }
   ],
   "source": [
    "summary(net.to(device), input_size=(3, 32, 32))"
   ]
  },
  {
   "cell_type": "code",
   "execution_count": 16,
   "id": "b7667823",
   "metadata": {
    "colab": {
     "base_uri": "https://localhost:8080/"
    },
    "executionInfo": {
     "elapsed": 171271,
     "status": "ok",
     "timestamp": 1660811709706,
     "user": {
      "displayName": "Влад Ваганов",
      "userId": "14391973791239611127"
     },
     "user_tz": -300
    },
    "id": "b7667823",
    "outputId": "c01c2d97-b93d-4ad1-9f0f-3d0c17293e7e"
   },
   "outputs": [
    {
     "name": "stdout",
     "output_type": "stream",
     "text": [
      "Epoch [ 1/5]. Step [  1/391]. Loss_valid: 0.0360  Acc_valid: 0.010  Loss_test: 0.0364  Acc_test: 0.010\n",
      "Epoch [ 1/5]. Step [201/391]. Loss_valid: 0.0353  Acc_valid: 0.107  Loss_test: 0.0357  Acc_test: 0.103\n",
      "Epoch [ 2/5]. Step [  1/391]. Loss_valid: 0.0351  Acc_valid: 0.139  Loss_test: 0.0355  Acc_test: 0.135\n",
      "Epoch [ 2/5]. Step [201/391]. Loss_valid: 0.0348  Acc_valid: 0.174  Loss_test: 0.0353  Acc_test: 0.166\n",
      "Epoch [ 3/5]. Step [  1/391]. Loss_valid: 0.0347  Acc_valid: 0.190  Loss_test: 0.0352  Acc_test: 0.177\n",
      "Epoch [ 3/5]. Step [201/391]. Loss_valid: 0.0345  Acc_valid: 0.218  Loss_test: 0.0350  Acc_test: 0.202\n",
      "Epoch [ 4/5]. Step [  1/391]. Loss_valid: 0.0343  Acc_valid: 0.241  Loss_test: 0.0349  Acc_test: 0.216\n",
      "Epoch [ 4/5]. Step [201/391]. Loss_valid: 0.0342  Acc_valid: 0.257  Loss_test: 0.0348  Acc_test: 0.231\n",
      "Epoch [ 5/5]. Step [  1/391]. Loss_valid: 0.0340  Acc_valid: 0.283  Loss_test: 0.0346  Acc_test: 0.248\n",
      "Epoch [ 5/5]. Step [201/391]. Loss_valid: 0.0339  Acc_valid: 0.304  Loss_test: 0.0345  Acc_test: 0.259\n",
      "Training is finished with optimazer: <class 'torch.optim.adam.Adam'>\n"
     ]
    }
   ],
   "source": [
    "hist = net.fit(loader_train, loader_test, 5, nn.CrossEntropyLoss, optim.Adam, 0.0001, show_log=True)"
   ]
  },
  {
   "cell_type": "markdown",
   "id": "165503b8",
   "metadata": {
    "id": "9328a2df"
   },
   "source": [
    "## CNN на CIFAR-100 через дообучение ImageNet Resnet-50."
   ]
  },
  {
   "cell_type": "code",
   "execution_count": 17,
   "id": "73934f12",
   "metadata": {
    "colab": {
     "base_uri": "https://localhost:8080/",
     "height": 66,
     "referenced_widgets": [
      "6e738ed6bb094e3a9ea2a2d993541484",
      "3520d28365d54f8f95df6d47c354c49a",
      "106d8a1e9a5445598e928e4b22d6ab55",
      "8e1b0d9a1eb64c2bb7c823ef5a3bd9cd",
      "40746c66b5b44e6c8327116edcdece5a",
      "e83a61f64c1740f7b13696f92b42c6b4",
      "ce9d938d5d9f42beadd64f24e1ac0d5c",
      "b66c23152bac4d8c8d6a421a03d87f43",
      "9ac9dd406e864a52a7ae984cef2e01c6",
      "2af6b9d9507c4bb78e51b9a069da29e3",
      "71dada18598b4e0f846fa174c44552b5"
     ]
    },
    "executionInfo": {
     "elapsed": 1132,
     "status": "ok",
     "timestamp": 1660811730931,
     "user": {
      "displayName": "Влад Ваганов",
      "userId": "14391973791239611127"
     },
     "user_tz": -300
    },
    "id": "73934f12",
    "outputId": "c99dec7f-6b92-4187-dd68-c571c0e3324d"
   },
   "outputs": [
    {
     "name": "stderr",
     "output_type": "stream",
     "text": [
      "Downloading: \"https://download.pytorch.org/models/resnet50-0676ba61.pth\" to /root/.cache/torch/hub/checkpoints/resnet50-0676ba61.pth\n"
     ]
    },
    {
     "data": {
      "application/vnd.jupyter.widget-view+json": {
       "model_id": "6e738ed6bb094e3a9ea2a2d993541484",
       "version_major": 2,
       "version_minor": 0
      },
      "text/plain": [
       "  0%|          | 0.00/97.8M [00:00<?, ?B/s]"
      ]
     },
     "metadata": {},
     "output_type": "display_data"
    }
   ],
   "source": [
    "resnet50 = models.resnet50(weights='ResNet50_Weights.IMAGENET1K_V1')"
   ]
  },
  {
   "cell_type": "code",
   "execution_count": 18,
   "id": "b7e22618",
   "metadata": {
    "executionInfo": {
     "elapsed": 278,
     "status": "ok",
     "timestamp": 1660811739479,
     "user": {
      "displayName": "Влад Ваганов",
      "userId": "14391973791239611127"
     },
     "user_tz": -300
    },
    "id": "b7e22618"
   },
   "outputs": [],
   "source": [
    "train_actions = transforms.Compose([transforms.Resize(256),\n",
    "                                    transforms.RandomCrop(224, padding=4), \n",
    "                                    transforms.ToTensor(),\n",
    "                                    transforms.Normalize(mean=[0.485, 0.456, 0.406],\n",
    "                                                         std=[0.229, 0.224, 0.225])])\n",
    "test_transforms = transforms.Compose([transforms.Resize(224),\n",
    "                                       transforms.ToTensor(),\n",
    "                                       transforms.Normalize(mean=[0.485, 0.456, 0.406],\n",
    "                                                            std=[0.229, 0.224, 0.225])])"
   ]
  },
  {
   "cell_type": "code",
   "execution_count": 19,
   "id": "fb8f5348",
   "metadata": {
    "executionInfo": {
     "elapsed": 281,
     "status": "ok",
     "timestamp": 1660811742339,
     "user": {
      "displayName": "Влад Ваганов",
      "userId": "14391973791239611127"
     },
     "user_tz": -300
    },
    "id": "fb8f5348"
   },
   "outputs": [],
   "source": [
    "train_dataset = MyOwnCifar(train_dataset_cifar100, train_actions)\n",
    "test_dataset = MyOwnCifar(test_dataset_cifar100, test_transforms)"
   ]
  },
  {
   "cell_type": "code",
   "execution_count": 20,
   "id": "efbab55c",
   "metadata": {
    "executionInfo": {
     "elapsed": 324,
     "status": "ok",
     "timestamp": 1660811745099,
     "user": {
      "displayName": "Влад Ваганов",
      "userId": "14391973791239611127"
     },
     "user_tz": -300
    },
    "id": "efbab55c"
   },
   "outputs": [],
   "source": [
    "loader_train = torch.utils.data.DataLoader(train_dataset,\n",
    "                                           batch_size=128,\n",
    "                                           shuffle=True,\n",
    "                                           num_workers=2)\n",
    "loader_test = torch.utils.data.DataLoader(test_dataset,\n",
    "                                           batch_size=128,\n",
    "                                           shuffle=False,\n",
    "                                           num_workers=1)"
   ]
  },
  {
   "cell_type": "code",
   "execution_count": 21,
   "id": "0584e5fe",
   "metadata": {
    "executionInfo": {
     "elapsed": 309,
     "status": "ok",
     "timestamp": 1660811746872,
     "user": {
      "displayName": "Влад Ваганов",
      "userId": "14391973791239611127"
     },
     "user_tz": -300
    },
    "id": "0584e5fe"
   },
   "outputs": [],
   "source": [
    "class Net_resnet(nn.Module):\n",
    "    def __init__(self, resnet50, device='cpu'):\n",
    "        super().__init__()\n",
    "        self.device = device\n",
    "        self.net = resnet50\n",
    "        for param in list(self.net.parameters())[:]:\n",
    "            param.requires_grad = False\n",
    "        self.net.fc = nn.Sequential(            \n",
    "            nn.Linear(2048, 2048),\n",
    "            nn.LeakyReLU(),\n",
    "            nn.BatchNorm1d(2048),\n",
    "            nn.Dropout(0.25),\n",
    "            nn.Linear(2048, 1024),\n",
    "            nn.LeakyReLU(),\n",
    "            nn.BatchNorm1d(1024),\n",
    "            nn.Dropout(0.25),\n",
    "            nn.Linear(1024, 100),\n",
    "            nn.Softmax(dim=1)\n",
    "            )\n",
    "\n",
    "    def forward(self, x):\n",
    "        x = self.net(x)\n",
    "        return x\n",
    "\n",
    "\n",
    "    def fit(self, loader_train, loadre_test, epochs, loss, optimazer, lr, show_log=True):\n",
    "        self.train()\n",
    "        params_to_update = []\n",
    "        for name, param in self.named_parameters():\n",
    "            if param.requires_grad == True:\n",
    "                params_to_update.append(param)\n",
    "        self.history = []\n",
    "        self.optimazer = optimazer(params_to_update, lr)    \n",
    "        self.loss = loss()\n",
    "        for epoch in range(epochs):\n",
    "            running_loss = 0.0\n",
    "            running_items = 0.0\n",
    "            predict_ture = 0.0            \n",
    "            for i, data in enumerate(loader_train):\n",
    "                X_train, y_train = data[0].to(self.device), data[1].to(self.device)\n",
    "                self.optimazer.zero_grad()\n",
    "                outputs = self(X_train)\n",
    "                loss_iter = self.loss(outputs, y_train)\n",
    "                loss_iter.backward()\n",
    "                self.optimazer.step()\n",
    "                if i%200 ==0:\n",
    "                    loss_train, acc_train = self.loss_fn(loader_train)\n",
    "                    loss_test, acc_test = self.loss_fn(loader_test)\n",
    "                    self.history.append([epoch+1, i+1, acc_train, acc_test])\n",
    "                    if show_log:\n",
    "                        print(f'Epoch [{epoch + 1:2}/{epochs}]. ' \\\n",
    "                              f'Step [{i + 1:3}/{len(loader_train)}]. ' \\\n",
    "                              f'Loss_valid: {loss_train:.4f}  '\\\n",
    "                              f'Acc_valid: {acc_train:.3f}  '\\\n",
    "                              f'Loss_test: {loss_test:.4f}  '\\\n",
    "                              f'Acc_test: {acc_test:.3f}'\n",
    "                              )\n",
    "                running_loss, running_items = 0.0, 0.0\n",
    "        print(f'Training is finished with optimazer: {optimazer}')\n",
    "        return self.history\n",
    "\n",
    "\n",
    "    def loss_fn(self, loader):\n",
    "        self.eval()\n",
    "        running_loss = 0.0\n",
    "        running_items = 0.0\n",
    "        predict_ture = 0.0    \n",
    "        for i, data in enumerate(loader):\n",
    "            X_data, y_data = data[0].to(self.device), data[1].to(self.device)\n",
    "            outputs = self(X_data)\n",
    "            loss_iter = self.loss(outputs, y_data)\n",
    "            running_loss += loss_iter.item()\n",
    "            _, predicted = torch.max(outputs, 1)\n",
    "            predict_ture += (y_data==predicted).sum().item()\n",
    "            running_items += len(y_data)\n",
    "        self.train()  \n",
    "        return running_loss / running_items, predict_ture/running_items\n"
   ]
  },
  {
   "cell_type": "code",
   "execution_count": 22,
   "id": "c65443a3",
   "metadata": {
    "executionInfo": {
     "elapsed": 274,
     "status": "ok",
     "timestamp": 1660811751608,
     "user": {
      "displayName": "Влад Ваганов",
      "userId": "14391973791239611127"
     },
     "user_tz": -300
    },
    "id": "c65443a3"
   },
   "outputs": [],
   "source": [
    "net = Net_resnet(resnet50, device).to(device)"
   ]
  },
  {
   "cell_type": "code",
   "execution_count": 23,
   "id": "2c532e59",
   "metadata": {
    "colab": {
     "base_uri": "https://localhost:8080/"
    },
    "executionInfo": {
     "elapsed": 405,
     "status": "ok",
     "timestamp": 1660811753396,
     "user": {
      "displayName": "Влад Ваганов",
      "userId": "14391973791239611127"
     },
     "user_tz": -300
    },
    "id": "2c532e59",
    "outputId": "c4973ed6-b418-4e57-b146-b1fb44f3a43b",
    "scrolled": false
   },
   "outputs": [
    {
     "name": "stdout",
     "output_type": "stream",
     "text": [
      "----------------------------------------------------------------\n",
      "        Layer (type)               Output Shape         Param #\n",
      "================================================================\n",
      "            Conv2d-1           [-1, 64, 16, 16]           9,408\n",
      "       BatchNorm2d-2           [-1, 64, 16, 16]             128\n",
      "              ReLU-3           [-1, 64, 16, 16]               0\n",
      "         MaxPool2d-4             [-1, 64, 8, 8]               0\n",
      "            Conv2d-5             [-1, 64, 8, 8]           4,096\n",
      "       BatchNorm2d-6             [-1, 64, 8, 8]             128\n",
      "              ReLU-7             [-1, 64, 8, 8]               0\n",
      "            Conv2d-8             [-1, 64, 8, 8]          36,864\n",
      "       BatchNorm2d-9             [-1, 64, 8, 8]             128\n",
      "             ReLU-10             [-1, 64, 8, 8]               0\n",
      "           Conv2d-11            [-1, 256, 8, 8]          16,384\n",
      "      BatchNorm2d-12            [-1, 256, 8, 8]             512\n",
      "           Conv2d-13            [-1, 256, 8, 8]          16,384\n",
      "      BatchNorm2d-14            [-1, 256, 8, 8]             512\n",
      "             ReLU-15            [-1, 256, 8, 8]               0\n",
      "       Bottleneck-16            [-1, 256, 8, 8]               0\n",
      "           Conv2d-17             [-1, 64, 8, 8]          16,384\n",
      "      BatchNorm2d-18             [-1, 64, 8, 8]             128\n",
      "             ReLU-19             [-1, 64, 8, 8]               0\n",
      "           Conv2d-20             [-1, 64, 8, 8]          36,864\n",
      "      BatchNorm2d-21             [-1, 64, 8, 8]             128\n",
      "             ReLU-22             [-1, 64, 8, 8]               0\n",
      "           Conv2d-23            [-1, 256, 8, 8]          16,384\n",
      "      BatchNorm2d-24            [-1, 256, 8, 8]             512\n",
      "             ReLU-25            [-1, 256, 8, 8]               0\n",
      "       Bottleneck-26            [-1, 256, 8, 8]               0\n",
      "           Conv2d-27             [-1, 64, 8, 8]          16,384\n",
      "      BatchNorm2d-28             [-1, 64, 8, 8]             128\n",
      "             ReLU-29             [-1, 64, 8, 8]               0\n",
      "           Conv2d-30             [-1, 64, 8, 8]          36,864\n",
      "      BatchNorm2d-31             [-1, 64, 8, 8]             128\n",
      "             ReLU-32             [-1, 64, 8, 8]               0\n",
      "           Conv2d-33            [-1, 256, 8, 8]          16,384\n",
      "      BatchNorm2d-34            [-1, 256, 8, 8]             512\n",
      "             ReLU-35            [-1, 256, 8, 8]               0\n",
      "       Bottleneck-36            [-1, 256, 8, 8]               0\n",
      "           Conv2d-37            [-1, 128, 8, 8]          32,768\n",
      "      BatchNorm2d-38            [-1, 128, 8, 8]             256\n",
      "             ReLU-39            [-1, 128, 8, 8]               0\n",
      "           Conv2d-40            [-1, 128, 4, 4]         147,456\n",
      "      BatchNorm2d-41            [-1, 128, 4, 4]             256\n",
      "             ReLU-42            [-1, 128, 4, 4]               0\n",
      "           Conv2d-43            [-1, 512, 4, 4]          65,536\n",
      "      BatchNorm2d-44            [-1, 512, 4, 4]           1,024\n",
      "           Conv2d-45            [-1, 512, 4, 4]         131,072\n",
      "      BatchNorm2d-46            [-1, 512, 4, 4]           1,024\n",
      "             ReLU-47            [-1, 512, 4, 4]               0\n",
      "       Bottleneck-48            [-1, 512, 4, 4]               0\n",
      "           Conv2d-49            [-1, 128, 4, 4]          65,536\n",
      "      BatchNorm2d-50            [-1, 128, 4, 4]             256\n",
      "             ReLU-51            [-1, 128, 4, 4]               0\n",
      "           Conv2d-52            [-1, 128, 4, 4]         147,456\n",
      "      BatchNorm2d-53            [-1, 128, 4, 4]             256\n",
      "             ReLU-54            [-1, 128, 4, 4]               0\n",
      "           Conv2d-55            [-1, 512, 4, 4]          65,536\n",
      "      BatchNorm2d-56            [-1, 512, 4, 4]           1,024\n",
      "             ReLU-57            [-1, 512, 4, 4]               0\n",
      "       Bottleneck-58            [-1, 512, 4, 4]               0\n",
      "           Conv2d-59            [-1, 128, 4, 4]          65,536\n",
      "      BatchNorm2d-60            [-1, 128, 4, 4]             256\n",
      "             ReLU-61            [-1, 128, 4, 4]               0\n",
      "           Conv2d-62            [-1, 128, 4, 4]         147,456\n",
      "      BatchNorm2d-63            [-1, 128, 4, 4]             256\n",
      "             ReLU-64            [-1, 128, 4, 4]               0\n",
      "           Conv2d-65            [-1, 512, 4, 4]          65,536\n",
      "      BatchNorm2d-66            [-1, 512, 4, 4]           1,024\n",
      "             ReLU-67            [-1, 512, 4, 4]               0\n",
      "       Bottleneck-68            [-1, 512, 4, 4]               0\n",
      "           Conv2d-69            [-1, 128, 4, 4]          65,536\n",
      "      BatchNorm2d-70            [-1, 128, 4, 4]             256\n",
      "             ReLU-71            [-1, 128, 4, 4]               0\n",
      "           Conv2d-72            [-1, 128, 4, 4]         147,456\n",
      "      BatchNorm2d-73            [-1, 128, 4, 4]             256\n",
      "             ReLU-74            [-1, 128, 4, 4]               0\n",
      "           Conv2d-75            [-1, 512, 4, 4]          65,536\n",
      "      BatchNorm2d-76            [-1, 512, 4, 4]           1,024\n",
      "             ReLU-77            [-1, 512, 4, 4]               0\n",
      "       Bottleneck-78            [-1, 512, 4, 4]               0\n",
      "           Conv2d-79            [-1, 256, 4, 4]         131,072\n",
      "      BatchNorm2d-80            [-1, 256, 4, 4]             512\n",
      "             ReLU-81            [-1, 256, 4, 4]               0\n",
      "           Conv2d-82            [-1, 256, 2, 2]         589,824\n",
      "      BatchNorm2d-83            [-1, 256, 2, 2]             512\n",
      "             ReLU-84            [-1, 256, 2, 2]               0\n",
      "           Conv2d-85           [-1, 1024, 2, 2]         262,144\n",
      "      BatchNorm2d-86           [-1, 1024, 2, 2]           2,048\n",
      "           Conv2d-87           [-1, 1024, 2, 2]         524,288\n",
      "      BatchNorm2d-88           [-1, 1024, 2, 2]           2,048\n",
      "             ReLU-89           [-1, 1024, 2, 2]               0\n",
      "       Bottleneck-90           [-1, 1024, 2, 2]               0\n",
      "           Conv2d-91            [-1, 256, 2, 2]         262,144\n",
      "      BatchNorm2d-92            [-1, 256, 2, 2]             512\n",
      "             ReLU-93            [-1, 256, 2, 2]               0\n",
      "           Conv2d-94            [-1, 256, 2, 2]         589,824\n",
      "      BatchNorm2d-95            [-1, 256, 2, 2]             512\n",
      "             ReLU-96            [-1, 256, 2, 2]               0\n",
      "           Conv2d-97           [-1, 1024, 2, 2]         262,144\n",
      "      BatchNorm2d-98           [-1, 1024, 2, 2]           2,048\n",
      "             ReLU-99           [-1, 1024, 2, 2]               0\n",
      "      Bottleneck-100           [-1, 1024, 2, 2]               0\n",
      "          Conv2d-101            [-1, 256, 2, 2]         262,144\n",
      "     BatchNorm2d-102            [-1, 256, 2, 2]             512\n",
      "            ReLU-103            [-1, 256, 2, 2]               0\n",
      "          Conv2d-104            [-1, 256, 2, 2]         589,824\n",
      "     BatchNorm2d-105            [-1, 256, 2, 2]             512\n",
      "            ReLU-106            [-1, 256, 2, 2]               0\n",
      "          Conv2d-107           [-1, 1024, 2, 2]         262,144\n",
      "     BatchNorm2d-108           [-1, 1024, 2, 2]           2,048\n",
      "            ReLU-109           [-1, 1024, 2, 2]               0\n",
      "      Bottleneck-110           [-1, 1024, 2, 2]               0\n",
      "          Conv2d-111            [-1, 256, 2, 2]         262,144\n",
      "     BatchNorm2d-112            [-1, 256, 2, 2]             512\n",
      "            ReLU-113            [-1, 256, 2, 2]               0\n",
      "          Conv2d-114            [-1, 256, 2, 2]         589,824\n",
      "     BatchNorm2d-115            [-1, 256, 2, 2]             512\n",
      "            ReLU-116            [-1, 256, 2, 2]               0\n",
      "          Conv2d-117           [-1, 1024, 2, 2]         262,144\n",
      "     BatchNorm2d-118           [-1, 1024, 2, 2]           2,048\n",
      "            ReLU-119           [-1, 1024, 2, 2]               0\n",
      "      Bottleneck-120           [-1, 1024, 2, 2]               0\n",
      "          Conv2d-121            [-1, 256, 2, 2]         262,144\n",
      "     BatchNorm2d-122            [-1, 256, 2, 2]             512\n",
      "            ReLU-123            [-1, 256, 2, 2]               0\n",
      "          Conv2d-124            [-1, 256, 2, 2]         589,824\n",
      "     BatchNorm2d-125            [-1, 256, 2, 2]             512\n",
      "            ReLU-126            [-1, 256, 2, 2]               0\n",
      "          Conv2d-127           [-1, 1024, 2, 2]         262,144\n",
      "     BatchNorm2d-128           [-1, 1024, 2, 2]           2,048\n",
      "            ReLU-129           [-1, 1024, 2, 2]               0\n",
      "      Bottleneck-130           [-1, 1024, 2, 2]               0\n",
      "          Conv2d-131            [-1, 256, 2, 2]         262,144\n",
      "     BatchNorm2d-132            [-1, 256, 2, 2]             512\n",
      "            ReLU-133            [-1, 256, 2, 2]               0\n",
      "          Conv2d-134            [-1, 256, 2, 2]         589,824\n",
      "     BatchNorm2d-135            [-1, 256, 2, 2]             512\n",
      "            ReLU-136            [-1, 256, 2, 2]               0\n",
      "          Conv2d-137           [-1, 1024, 2, 2]         262,144\n",
      "     BatchNorm2d-138           [-1, 1024, 2, 2]           2,048\n",
      "            ReLU-139           [-1, 1024, 2, 2]               0\n",
      "      Bottleneck-140           [-1, 1024, 2, 2]               0\n",
      "          Conv2d-141            [-1, 512, 2, 2]         524,288\n",
      "     BatchNorm2d-142            [-1, 512, 2, 2]           1,024\n",
      "            ReLU-143            [-1, 512, 2, 2]               0\n",
      "          Conv2d-144            [-1, 512, 1, 1]       2,359,296\n",
      "     BatchNorm2d-145            [-1, 512, 1, 1]           1,024\n",
      "            ReLU-146            [-1, 512, 1, 1]               0\n",
      "          Conv2d-147           [-1, 2048, 1, 1]       1,048,576\n",
      "     BatchNorm2d-148           [-1, 2048, 1, 1]           4,096\n",
      "          Conv2d-149           [-1, 2048, 1, 1]       2,097,152\n",
      "     BatchNorm2d-150           [-1, 2048, 1, 1]           4,096\n",
      "            ReLU-151           [-1, 2048, 1, 1]               0\n",
      "      Bottleneck-152           [-1, 2048, 1, 1]               0\n",
      "          Conv2d-153            [-1, 512, 1, 1]       1,048,576\n",
      "     BatchNorm2d-154            [-1, 512, 1, 1]           1,024\n",
      "            ReLU-155            [-1, 512, 1, 1]               0\n",
      "          Conv2d-156            [-1, 512, 1, 1]       2,359,296\n",
      "     BatchNorm2d-157            [-1, 512, 1, 1]           1,024\n",
      "            ReLU-158            [-1, 512, 1, 1]               0\n",
      "          Conv2d-159           [-1, 2048, 1, 1]       1,048,576\n",
      "     BatchNorm2d-160           [-1, 2048, 1, 1]           4,096\n",
      "            ReLU-161           [-1, 2048, 1, 1]               0\n",
      "      Bottleneck-162           [-1, 2048, 1, 1]               0\n",
      "          Conv2d-163            [-1, 512, 1, 1]       1,048,576\n",
      "     BatchNorm2d-164            [-1, 512, 1, 1]           1,024\n",
      "            ReLU-165            [-1, 512, 1, 1]               0\n",
      "          Conv2d-166            [-1, 512, 1, 1]       2,359,296\n",
      "     BatchNorm2d-167            [-1, 512, 1, 1]           1,024\n",
      "            ReLU-168            [-1, 512, 1, 1]               0\n",
      "          Conv2d-169           [-1, 2048, 1, 1]       1,048,576\n",
      "     BatchNorm2d-170           [-1, 2048, 1, 1]           4,096\n",
      "            ReLU-171           [-1, 2048, 1, 1]               0\n",
      "      Bottleneck-172           [-1, 2048, 1, 1]               0\n",
      "AdaptiveAvgPool2d-173           [-1, 2048, 1, 1]               0\n",
      "          Linear-174                 [-1, 2048]       4,196,352\n",
      "       LeakyReLU-175                 [-1, 2048]               0\n",
      "     BatchNorm1d-176                 [-1, 2048]           4,096\n",
      "         Dropout-177                 [-1, 2048]               0\n",
      "          Linear-178                 [-1, 1024]       2,098,176\n",
      "       LeakyReLU-179                 [-1, 1024]               0\n",
      "     BatchNorm1d-180                 [-1, 1024]           2,048\n",
      "         Dropout-181                 [-1, 1024]               0\n",
      "          Linear-182                  [-1, 100]         102,500\n",
      "         Softmax-183                  [-1, 100]               0\n",
      "          ResNet-184                  [-1, 100]               0\n",
      "================================================================\n",
      "Total params: 29,911,204\n",
      "Trainable params: 6,403,172\n",
      "Non-trainable params: 23,508,032\n",
      "----------------------------------------------------------------\n",
      "Input size (MB): 0.01\n",
      "Forward/backward pass size (MB): 5.96\n",
      "Params size (MB): 114.10\n",
      "Estimated Total Size (MB): 120.07\n",
      "----------------------------------------------------------------\n"
     ]
    }
   ],
   "source": [
    "summary(net, input_size=(3, 32, 32))"
   ]
  },
  {
   "cell_type": "code",
   "execution_count": 24,
   "id": "isPhpzEbnRAQ",
   "metadata": {
    "colab": {
     "base_uri": "https://localhost:8080/"
    },
    "executionInfo": {
     "elapsed": 2607990,
     "status": "ok",
     "timestamp": 1660814364097,
     "user": {
      "displayName": "Влад Ваганов",
      "userId": "14391973791239611127"
     },
     "user_tz": -300
    },
    "id": "isPhpzEbnRAQ",
    "outputId": "9f6ca32f-22d1-4178-f79e-11f84729c61e"
   },
   "outputs": [
    {
     "name": "stdout",
     "output_type": "stream",
     "text": [
      "Epoch [ 1/5]. Step [  1/391]. Loss_valid: 0.0360  Acc_valid: 0.017  Loss_test: 0.0364  Acc_test: 0.016\n",
      "Epoch [ 1/5]. Step [201/391]. Loss_valid: 0.0336  Acc_valid: 0.374  Loss_test: 0.0340  Acc_test: 0.372\n",
      "Epoch [ 2/5]. Step [  1/391]. Loss_valid: 0.0331  Acc_valid: 0.445  Loss_test: 0.0334  Acc_test: 0.443\n",
      "Epoch [ 2/5]. Step [201/391]. Loss_valid: 0.0328  Acc_valid: 0.477  Loss_test: 0.0332  Acc_test: 0.464\n",
      "Epoch [ 3/5]. Step [  1/391]. Loss_valid: 0.0326  Acc_valid: 0.495  Loss_test: 0.0330  Acc_test: 0.486\n",
      "Epoch [ 3/5]. Step [201/391]. Loss_valid: 0.0324  Acc_valid: 0.518  Loss_test: 0.0328  Acc_test: 0.505\n",
      "Epoch [ 4/5]. Step [  1/391]. Loss_valid: 0.0323  Acc_valid: 0.539  Loss_test: 0.0327  Acc_test: 0.520\n",
      "Epoch [ 4/5]. Step [201/391]. Loss_valid: 0.0322  Acc_valid: 0.542  Loss_test: 0.0326  Acc_test: 0.522\n",
      "Epoch [ 5/5]. Step [  1/391]. Loss_valid: 0.0321  Acc_valid: 0.551  Loss_test: 0.0326  Acc_test: 0.526\n",
      "Epoch [ 5/5]. Step [201/391]. Loss_valid: 0.0321  Acc_valid: 0.556  Loss_test: 0.0325  Acc_test: 0.529\n",
      "Training is finished with optimazer: <class 'torch.optim.adam.Adam'>\n"
     ]
    }
   ],
   "source": [
    "hist = net.fit(loader_train, loader_test, 5, nn.CrossEntropyLoss, optim.Adam, 0.0001, show_log=True)"
   ]
  },
  {
   "cell_type": "markdown",
   "id": "3b9f9ab9",
   "metadata": {
    "id": "dbd679f0"
   },
   "source": [
    "## CNN на CIFAR-100 через дообучение ImageNet Resnet-50 с аугментацией данных."
   ]
  },
  {
   "cell_type": "code",
   "execution_count": 25,
   "id": "8ee93a35",
   "metadata": {
    "executionInfo": {
     "elapsed": 2513,
     "status": "ok",
     "timestamp": 1660814372980,
     "user": {
      "displayName": "Влад Ваганов",
      "userId": "14391973791239611127"
     },
     "user_tz": -300
    },
    "id": "8ee93a35"
   },
   "outputs": [],
   "source": [
    "import albumentations as alb\n",
    "from albumentations.pytorch import ToTensorV2\n",
    "\n",
    "alb_transform_train = alb.Compose(\n",
    "    [\n",
    "        alb.Resize(height=40, width=40),\n",
    "        alb.RandomCrop(height=32, width=32),\n",
    "        alb.HorizontalFlip(p=0.5),\n",
    "        alb.ShiftScaleRotate(shift_limit=0.05, scale_limit=0.05, rotate_limit=15, p=1),\n",
    "        alb.RGBShift(r_shift_limit=15, g_shift_limit=15, b_shift_limit=15, p=0.5),\n",
    "        alb.RandomBrightnessContrast(p=0.5),\n",
    "        alb.OneOf([\n",
    "            alb.MotionBlur(p=1),\n",
    "            alb.OpticalDistortion(p=1),\n",
    "            alb.GaussNoise(p=1)                 \n",
    "        ], p=1),\n",
    "        alb.Normalize(mean=(0.485, 0.456, 0.406),\n",
    "                      std=(0.229, 0.224, 0.225)),\n",
    "        ToTensorV2(),\n",
    "    ]\n",
    ")\n",
    "\n",
    "alb_transform_test = alb.Compose(\n",
    "    [   alb.Normalize(mean=(0.485, 0.456, 0.406),\n",
    "                      std=(0.229, 0.224, 0.225)),\n",
    "        ToTensorV2(),\n",
    "    ]\n",
    ")"
   ]
  },
  {
   "cell_type": "code",
   "execution_count": 26,
   "id": "xeU6qImszfZ-",
   "metadata": {
    "executionInfo": {
     "elapsed": 307,
     "status": "ok",
     "timestamp": 1660814375479,
     "user": {
      "displayName": "Влад Ваганов",
      "userId": "14391973791239611127"
     },
     "user_tz": -300
    },
    "id": "xeU6qImszfZ-"
   },
   "outputs": [],
   "source": [
    "class Net_resnet_alb(nn.Module):\n",
    "    def __init__(self, resnet50, device='cpu'):\n",
    "        super().__init__()\n",
    "        self.device = device\n",
    "        self.net = resnet50\n",
    "        for param in list(self.net.parameters())[:]:\n",
    "            param.requires_grad = False\n",
    "        self.net.fc = nn.Sequential(            \n",
    "            nn.Linear(2048, 2048),\n",
    "            nn.LeakyReLU(),\n",
    "            nn.BatchNorm1d(2048),\n",
    "            nn.Dropout(0.25),\n",
    "            nn.Linear(2048, 1024),\n",
    "            nn.LeakyReLU(),\n",
    "            nn.BatchNorm1d(1024),\n",
    "            nn.Dropout(0.25),\n",
    "            nn.Linear(1024, 100),\n",
    "            nn.Softmax(dim=1)\n",
    "            )\n",
    "\n",
    "    def forward(self, x):\n",
    "        x = self.net(x)\n",
    "        return x\n",
    "\n",
    "\n",
    "    def fit(self, loader_train, loadre_test, epochs, loss, optimazer, lr, show_log=True):\n",
    "        self.train()\n",
    "        params_to_update = []\n",
    "        for name, param in self.named_parameters():\n",
    "            if param.requires_grad == True:\n",
    "                params_to_update.append(param)\n",
    "        self.history = []\n",
    "        self.optimazer = optimazer(params_to_update, lr)    \n",
    "        self.loss = loss()\n",
    "        for epoch in range(epochs):\n",
    "            running_loss = 0.0\n",
    "            running_items = 0.0\n",
    "            predict_ture = 0.0            \n",
    "            for i, data in enumerate(loader_train):\n",
    "                X_train, y_train = data[0]['image'].to(self.device), data[1].to(self.device)\n",
    "                self.optimazer.zero_grad()\n",
    "                outputs = self(X_train)\n",
    "                loss_iter = self.loss(outputs, y_train)\n",
    "                loss_iter.backward()\n",
    "                self.optimazer.step()\n",
    "                if i%200 ==0:\n",
    "                    loss_train, acc_train = self.loss_fn(loader_train)\n",
    "                    loss_test, acc_test = self.loss_fn(loader_test)\n",
    "                    self.history.append([epoch+1, i+1, acc_train, acc_test])\n",
    "                    if show_log:\n",
    "                        print(f'Epoch [{epoch + 1:2}/{epochs}]. ' \\\n",
    "                              f'Step [{i + 1:3}/{len(loader_train)}]. ' \\\n",
    "                              f'Loss_valid: {loss_train:.4f}  '\\\n",
    "                              f'Acc_valid: {acc_train:.3f}  '\\\n",
    "                              f'Loss_test: {loss_test:.4f}  '\\\n",
    "                              f'Acc_test: {acc_test:.3f}'\n",
    "                              )\n",
    "                running_loss, running_items = 0.0, 0.0\n",
    "        print(f'Training is finished with optimazer: {optimazer}')\n",
    "        return self.history\n",
    "\n",
    "\n",
    "    def loss_fn(self, loader):\n",
    "        self.eval()\n",
    "        running_loss = 0.0\n",
    "        running_items = 0.0\n",
    "        predict_ture = 0.0    \n",
    "        for i, data in enumerate(loader):\n",
    "            X_data, y_data = data[0]['image'].to(self.device), data[1].to(self.device)\n",
    "            outputs = self(X_data)\n",
    "            loss_iter = self.loss(outputs, y_data)\n",
    "            running_loss += loss_iter.item()\n",
    "            _, predicted = torch.max(outputs, 1)\n",
    "            predict_ture += (y_data==predicted).sum().item()\n",
    "            running_items += len(y_data)\n",
    "        self.train()  \n",
    "        return running_loss / running_items, predict_ture/running_items"
   ]
  },
  {
   "cell_type": "code",
   "execution_count": 27,
   "id": "X-t0AozkwJTk",
   "metadata": {
    "executionInfo": {
     "elapsed": 308,
     "status": "ok",
     "timestamp": 1660814379161,
     "user": {
      "displayName": "Влад Ваганов",
      "userId": "14391973791239611127"
     },
     "user_tz": -300
    },
    "id": "X-t0AozkwJTk"
   },
   "outputs": [],
   "source": [
    "class MyOwnCifar_alb(torch.utils.data.Dataset):\n",
    "   \n",
    "    def __init__(self, init_dataset, transform=None):\n",
    "        self._base_dataset = init_dataset\n",
    "        self.transform = transform\n",
    "\n",
    "    def __len__(self):\n",
    "        return len(self._base_dataset)\n",
    "\n",
    "    def __getitem__(self, idx):\n",
    "        img = self._base_dataset[idx][0]\n",
    "        if self.transform is not None:\n",
    "             img = self.transform(image=np.array(img))\n",
    "        return img, self._base_dataset[idx][1]"
   ]
  },
  {
   "cell_type": "code",
   "execution_count": 28,
   "id": "127091f4",
   "metadata": {
    "executionInfo": {
     "elapsed": 309,
     "status": "ok",
     "timestamp": 1660814381674,
     "user": {
      "displayName": "Влад Ваганов",
      "userId": "14391973791239611127"
     },
     "user_tz": -300
    },
    "id": "127091f4"
   },
   "outputs": [],
   "source": [
    "train_dataset = MyOwnCifar_alb(train_dataset_cifar100, alb_transform_train)\n",
    "test_dataset = MyOwnCifar_alb(test_dataset_cifar100, alb_transform_test)"
   ]
  },
  {
   "cell_type": "code",
   "execution_count": 29,
   "id": "1da69506",
   "metadata": {
    "executionInfo": {
     "elapsed": 305,
     "status": "ok",
     "timestamp": 1660814384187,
     "user": {
      "displayName": "Влад Ваганов",
      "userId": "14391973791239611127"
     },
     "user_tz": -300
    },
    "id": "1da69506"
   },
   "outputs": [],
   "source": [
    "loader_train = torch.utils.data.DataLoader(train_dataset,\n",
    "                                           batch_size=128,\n",
    "                                           shuffle=True,\n",
    "                                           num_workers=2)\n",
    "loader_test = torch.utils.data.DataLoader(test_dataset,\n",
    "                                           batch_size=128,\n",
    "                                           shuffle=False,\n",
    "                                           num_workers=1)"
   ]
  },
  {
   "cell_type": "code",
   "execution_count": 30,
   "id": "f1087878",
   "metadata": {
    "executionInfo": {
     "elapsed": 417,
     "status": "ok",
     "timestamp": 1660814386908,
     "user": {
      "displayName": "Влад Ваганов",
      "userId": "14391973791239611127"
     },
     "user_tz": -300
    },
    "id": "f1087878"
   },
   "outputs": [],
   "source": [
    "net = Net_resnet_alb(resnet50, device).to(device)"
   ]
  },
  {
   "cell_type": "code",
   "execution_count": 31,
   "id": "2c2e6f61",
   "metadata": {
    "colab": {
     "base_uri": "https://localhost:8080/"
    },
    "executionInfo": {
     "elapsed": 792851,
     "status": "ok",
     "timestamp": 1660815181260,
     "user": {
      "displayName": "Влад Ваганов",
      "userId": "14391973791239611127"
     },
     "user_tz": -300
    },
    "id": "2c2e6f61",
    "outputId": "b2c8e5c8-513a-437a-d61b-1c22517281e4"
   },
   "outputs": [
    {
     "name": "stdout",
     "output_type": "stream",
     "text": [
      "Epoch [ 1/5]. Step [  1/391]. Loss_valid: 0.0360  Acc_valid: 0.010  Loss_test: 0.0364  Acc_test: 0.010\n",
      "Epoch [ 1/5]. Step [201/391]. Loss_valid: 0.0353  Acc_valid: 0.120  Loss_test: 0.0356  Acc_test: 0.125\n",
      "Epoch [ 2/5]. Step [  1/391]. Loss_valid: 0.0350  Acc_valid: 0.153  Loss_test: 0.0354  Acc_test: 0.156\n",
      "Epoch [ 2/5]. Step [201/391]. Loss_valid: 0.0349  Acc_valid: 0.168  Loss_test: 0.0352  Acc_test: 0.172\n",
      "Epoch [ 3/5]. Step [  1/391]. Loss_valid: 0.0348  Acc_valid: 0.180  Loss_test: 0.0352  Acc_test: 0.182\n",
      "Epoch [ 3/5]. Step [201/391]. Loss_valid: 0.0347  Acc_valid: 0.192  Loss_test: 0.0351  Acc_test: 0.190\n",
      "Epoch [ 4/5]. Step [  1/391]. Loss_valid: 0.0347  Acc_valid: 0.193  Loss_test: 0.0351  Acc_test: 0.191\n",
      "Epoch [ 4/5]. Step [201/391]. Loss_valid: 0.0347  Acc_valid: 0.199  Loss_test: 0.0350  Acc_test: 0.195\n",
      "Epoch [ 5/5]. Step [  1/391]. Loss_valid: 0.0346  Acc_valid: 0.203  Loss_test: 0.0350  Acc_test: 0.197\n",
      "Epoch [ 5/5]. Step [201/391]. Loss_valid: 0.0346  Acc_valid: 0.206  Loss_test: 0.0350  Acc_test: 0.200\n",
      "Training is finished with optimazer: <class 'torch.optim.adam.Adam'>\n"
     ]
    }
   ],
   "source": [
    "hist = net.fit(loader_train, loader_test, 5, nn.CrossEntropyLoss, optim.Adam, 0.0001, show_log=True)"
   ]
  },
  {
   "cell_type": "markdown",
   "id": "8b4fbdc4",
   "metadata": {
    "id": "e3d684c0"
   },
   "source": [
    "## Замечания по работе"
   ]
  },
  {
   "cell_type": "markdown",
   "id": "bd8f9f7e",
   "metadata": {},
   "source": [
    "Низкое качество сети с аугментацией данных вызвано моей ошибкой. Первоначально я работал с  первой «самописной» сетью, в которой входной изображение 32*32. И в последствии забыл изменить строки:\n",
    "- alb.Resize(height=40, width=40),\n",
    "- alb.RandomCrop(height=32, width=32),<br>\n",
    "на \n",
    "- alb.Resize(height= 256, width= 256),\n",
    "- alb.RandomCrop(height=224, width=224),<br>\n",
    "В силу низкой производительности моего компьютера, и наступившего ограничения по использованию GPU на сервисе GoogleColab, переучивать сеть не стал. \n"
   ]
  },
  {
   "cell_type": "code",
   "execution_count": null,
   "id": "9cd59963",
   "metadata": {},
   "outputs": [],
   "source": []
  }
 ],
 "metadata": {
  "accelerator": "GPU",
  "colab": {
   "collapsed_sections": [],
   "name": "HW_4.ipynb",
   "provenance": []
  },
  "gpuClass": "standard",
  "kernelspec": {
   "display_name": "Python 3 (ipykernel)",
   "language": "python",
   "name": "python3"
  },
  "language_info": {
   "codemirror_mode": {
    "name": "ipython",
    "version": 3
   },
   "file_extension": ".py",
   "mimetype": "text/x-python",
   "name": "python",
   "nbconvert_exporter": "python",
   "pygments_lexer": "ipython3",
   "version": "3.9.7"
  },
  "widgets": {
   "application/vnd.jupyter.widget-state+json": {
    "106d8a1e9a5445598e928e4b22d6ab55": {
     "model_module": "@jupyter-widgets/controls",
     "model_module_version": "1.5.0",
     "model_name": "FloatProgressModel",
     "state": {
      "_dom_classes": [],
      "_model_module": "@jupyter-widgets/controls",
      "_model_module_version": "1.5.0",
      "_model_name": "FloatProgressModel",
      "_view_count": null,
      "_view_module": "@jupyter-widgets/controls",
      "_view_module_version": "1.5.0",
      "_view_name": "ProgressView",
      "bar_style": "success",
      "description": "",
      "description_tooltip": null,
      "layout": "IPY_MODEL_b66c23152bac4d8c8d6a421a03d87f43",
      "max": 102530333,
      "min": 0,
      "orientation": "horizontal",
      "style": "IPY_MODEL_9ac9dd406e864a52a7ae984cef2e01c6",
      "value": 102530333
     }
    },
    "2af6b9d9507c4bb78e51b9a069da29e3": {
     "model_module": "@jupyter-widgets/base",
     "model_module_version": "1.2.0",
     "model_name": "LayoutModel",
     "state": {
      "_model_module": "@jupyter-widgets/base",
      "_model_module_version": "1.2.0",
      "_model_name": "LayoutModel",
      "_view_count": null,
      "_view_module": "@jupyter-widgets/base",
      "_view_module_version": "1.2.0",
      "_view_name": "LayoutView",
      "align_content": null,
      "align_items": null,
      "align_self": null,
      "border": null,
      "bottom": null,
      "display": null,
      "flex": null,
      "flex_flow": null,
      "grid_area": null,
      "grid_auto_columns": null,
      "grid_auto_flow": null,
      "grid_auto_rows": null,
      "grid_column": null,
      "grid_gap": null,
      "grid_row": null,
      "grid_template_areas": null,
      "grid_template_columns": null,
      "grid_template_rows": null,
      "height": null,
      "justify_content": null,
      "justify_items": null,
      "left": null,
      "margin": null,
      "max_height": null,
      "max_width": null,
      "min_height": null,
      "min_width": null,
      "object_fit": null,
      "object_position": null,
      "order": null,
      "overflow": null,
      "overflow_x": null,
      "overflow_y": null,
      "padding": null,
      "right": null,
      "top": null,
      "visibility": null,
      "width": null
     }
    },
    "3520d28365d54f8f95df6d47c354c49a": {
     "model_module": "@jupyter-widgets/controls",
     "model_module_version": "1.5.0",
     "model_name": "HTMLModel",
     "state": {
      "_dom_classes": [],
      "_model_module": "@jupyter-widgets/controls",
      "_model_module_version": "1.5.0",
      "_model_name": "HTMLModel",
      "_view_count": null,
      "_view_module": "@jupyter-widgets/controls",
      "_view_module_version": "1.5.0",
      "_view_name": "HTMLView",
      "description": "",
      "description_tooltip": null,
      "layout": "IPY_MODEL_e83a61f64c1740f7b13696f92b42c6b4",
      "placeholder": "​",
      "style": "IPY_MODEL_ce9d938d5d9f42beadd64f24e1ac0d5c",
      "value": "100%"
     }
    },
    "40746c66b5b44e6c8327116edcdece5a": {
     "model_module": "@jupyter-widgets/base",
     "model_module_version": "1.2.0",
     "model_name": "LayoutModel",
     "state": {
      "_model_module": "@jupyter-widgets/base",
      "_model_module_version": "1.2.0",
      "_model_name": "LayoutModel",
      "_view_count": null,
      "_view_module": "@jupyter-widgets/base",
      "_view_module_version": "1.2.0",
      "_view_name": "LayoutView",
      "align_content": null,
      "align_items": null,
      "align_self": null,
      "border": null,
      "bottom": null,
      "display": null,
      "flex": null,
      "flex_flow": null,
      "grid_area": null,
      "grid_auto_columns": null,
      "grid_auto_flow": null,
      "grid_auto_rows": null,
      "grid_column": null,
      "grid_gap": null,
      "grid_row": null,
      "grid_template_areas": null,
      "grid_template_columns": null,
      "grid_template_rows": null,
      "height": null,
      "justify_content": null,
      "justify_items": null,
      "left": null,
      "margin": null,
      "max_height": null,
      "max_width": null,
      "min_height": null,
      "min_width": null,
      "object_fit": null,
      "object_position": null,
      "order": null,
      "overflow": null,
      "overflow_x": null,
      "overflow_y": null,
      "padding": null,
      "right": null,
      "top": null,
      "visibility": null,
      "width": null
     }
    },
    "6e738ed6bb094e3a9ea2a2d993541484": {
     "model_module": "@jupyter-widgets/controls",
     "model_module_version": "1.5.0",
     "model_name": "HBoxModel",
     "state": {
      "_dom_classes": [],
      "_model_module": "@jupyter-widgets/controls",
      "_model_module_version": "1.5.0",
      "_model_name": "HBoxModel",
      "_view_count": null,
      "_view_module": "@jupyter-widgets/controls",
      "_view_module_version": "1.5.0",
      "_view_name": "HBoxView",
      "box_style": "",
      "children": [
       "IPY_MODEL_3520d28365d54f8f95df6d47c354c49a",
       "IPY_MODEL_106d8a1e9a5445598e928e4b22d6ab55",
       "IPY_MODEL_8e1b0d9a1eb64c2bb7c823ef5a3bd9cd"
      ],
      "layout": "IPY_MODEL_40746c66b5b44e6c8327116edcdece5a"
     }
    },
    "71dada18598b4e0f846fa174c44552b5": {
     "model_module": "@jupyter-widgets/controls",
     "model_module_version": "1.5.0",
     "model_name": "DescriptionStyleModel",
     "state": {
      "_model_module": "@jupyter-widgets/controls",
      "_model_module_version": "1.5.0",
      "_model_name": "DescriptionStyleModel",
      "_view_count": null,
      "_view_module": "@jupyter-widgets/base",
      "_view_module_version": "1.2.0",
      "_view_name": "StyleView",
      "description_width": ""
     }
    },
    "8e1b0d9a1eb64c2bb7c823ef5a3bd9cd": {
     "model_module": "@jupyter-widgets/controls",
     "model_module_version": "1.5.0",
     "model_name": "HTMLModel",
     "state": {
      "_dom_classes": [],
      "_model_module": "@jupyter-widgets/controls",
      "_model_module_version": "1.5.0",
      "_model_name": "HTMLModel",
      "_view_count": null,
      "_view_module": "@jupyter-widgets/controls",
      "_view_module_version": "1.5.0",
      "_view_name": "HTMLView",
      "description": "",
      "description_tooltip": null,
      "layout": "IPY_MODEL_2af6b9d9507c4bb78e51b9a069da29e3",
      "placeholder": "​",
      "style": "IPY_MODEL_71dada18598b4e0f846fa174c44552b5",
      "value": " 97.8M/97.8M [00:00&lt;00:00, 220MB/s]"
     }
    },
    "9ac9dd406e864a52a7ae984cef2e01c6": {
     "model_module": "@jupyter-widgets/controls",
     "model_module_version": "1.5.0",
     "model_name": "ProgressStyleModel",
     "state": {
      "_model_module": "@jupyter-widgets/controls",
      "_model_module_version": "1.5.0",
      "_model_name": "ProgressStyleModel",
      "_view_count": null,
      "_view_module": "@jupyter-widgets/base",
      "_view_module_version": "1.2.0",
      "_view_name": "StyleView",
      "bar_color": null,
      "description_width": ""
     }
    },
    "b66c23152bac4d8c8d6a421a03d87f43": {
     "model_module": "@jupyter-widgets/base",
     "model_module_version": "1.2.0",
     "model_name": "LayoutModel",
     "state": {
      "_model_module": "@jupyter-widgets/base",
      "_model_module_version": "1.2.0",
      "_model_name": "LayoutModel",
      "_view_count": null,
      "_view_module": "@jupyter-widgets/base",
      "_view_module_version": "1.2.0",
      "_view_name": "LayoutView",
      "align_content": null,
      "align_items": null,
      "align_self": null,
      "border": null,
      "bottom": null,
      "display": null,
      "flex": null,
      "flex_flow": null,
      "grid_area": null,
      "grid_auto_columns": null,
      "grid_auto_flow": null,
      "grid_auto_rows": null,
      "grid_column": null,
      "grid_gap": null,
      "grid_row": null,
      "grid_template_areas": null,
      "grid_template_columns": null,
      "grid_template_rows": null,
      "height": null,
      "justify_content": null,
      "justify_items": null,
      "left": null,
      "margin": null,
      "max_height": null,
      "max_width": null,
      "min_height": null,
      "min_width": null,
      "object_fit": null,
      "object_position": null,
      "order": null,
      "overflow": null,
      "overflow_x": null,
      "overflow_y": null,
      "padding": null,
      "right": null,
      "top": null,
      "visibility": null,
      "width": null
     }
    },
    "ce9d938d5d9f42beadd64f24e1ac0d5c": {
     "model_module": "@jupyter-widgets/controls",
     "model_module_version": "1.5.0",
     "model_name": "DescriptionStyleModel",
     "state": {
      "_model_module": "@jupyter-widgets/controls",
      "_model_module_version": "1.5.0",
      "_model_name": "DescriptionStyleModel",
      "_view_count": null,
      "_view_module": "@jupyter-widgets/base",
      "_view_module_version": "1.2.0",
      "_view_name": "StyleView",
      "description_width": ""
     }
    },
    "e83a61f64c1740f7b13696f92b42c6b4": {
     "model_module": "@jupyter-widgets/base",
     "model_module_version": "1.2.0",
     "model_name": "LayoutModel",
     "state": {
      "_model_module": "@jupyter-widgets/base",
      "_model_module_version": "1.2.0",
      "_model_name": "LayoutModel",
      "_view_count": null,
      "_view_module": "@jupyter-widgets/base",
      "_view_module_version": "1.2.0",
      "_view_name": "LayoutView",
      "align_content": null,
      "align_items": null,
      "align_self": null,
      "border": null,
      "bottom": null,
      "display": null,
      "flex": null,
      "flex_flow": null,
      "grid_area": null,
      "grid_auto_columns": null,
      "grid_auto_flow": null,
      "grid_auto_rows": null,
      "grid_column": null,
      "grid_gap": null,
      "grid_row": null,
      "grid_template_areas": null,
      "grid_template_columns": null,
      "grid_template_rows": null,
      "height": null,
      "justify_content": null,
      "justify_items": null,
      "left": null,
      "margin": null,
      "max_height": null,
      "max_width": null,
      "min_height": null,
      "min_width": null,
      "object_fit": null,
      "object_position": null,
      "order": null,
      "overflow": null,
      "overflow_x": null,
      "overflow_y": null,
      "padding": null,
      "right": null,
      "top": null,
      "visibility": null,
      "width": null
     }
    }
   }
  }
 },
 "nbformat": 4,
 "nbformat_minor": 5
}
